{
 "cells": [
  {
   "cell_type": "markdown",
   "id": "24e8578b",
   "metadata": {
    "vscode": {
     "languageId": "plaintext"
    }
   },
   "source": [
    "### 1. Importing Libraries"
   ]
  },
  {
   "cell_type": "code",
   "execution_count": 1,
   "id": "c3628d4c",
   "metadata": {},
   "outputs": [],
   "source": [
    "import os\n",
    "import numpy as np  \n",
    "import pandas as pd  \n",
    "from sklearn.model_selection import train_test_split "
   ]
  },
  {
   "cell_type": "markdown",
   "id": "d528b79b",
   "metadata": {},
   "source": [
    "### 2. Reading the dataset\n"
   ]
  },
  {
   "cell_type": "code",
   "execution_count": 3,
   "id": "545a65bb",
   "metadata": {},
   "outputs": [],
   "source": [
    "DATA_DIR = r'C:\\Users\\sav91\\Desktop\\Projects\\Extras\\flight_price_prediction_using_aws\\data'\n",
    "PROJECT_DIR = r'C:\\Users\\Abhinay\\Desktop\\flight-prediction-sageMakerC:\\Users\\sav91\\Desktop\\Projects\\Extras\\flight_price_prediction_using_aws'\n",
    "\n",
    "def load_data(name):\n",
    "    \"\"\"\n",
    "    Load data from a CSV file.\n",
    "    \n",
    "    Parameters:\n",
    "    name (str): The name of the CSV file (without extension).\n",
    "    \n",
    "    Returns:\n",
    "    pd.DataFrame: The loaded data as a pandas DataFrame.\n",
    "    \"\"\"\n",
    "    file_path = os.path.join(DATA_DIR, f'{name}.csv')\n",
    "    if not os.path.exists(file_path):\n",
    "        raise FileNotFoundError(f\"Data file {file_path} does not exist.\")\n",
    "    \n",
    "    return pd.read_csv(file_path)"
   ]
  },
  {
   "cell_type": "code",
   "execution_count": 4,
   "id": "93a692ef",
   "metadata": {},
   "outputs": [],
   "source": [
    "flights = load_data('flight_price')"
   ]
  },
  {
   "cell_type": "code",
   "execution_count": 5,
   "id": "8f9d3cec",
   "metadata": {},
   "outputs": [
    {
     "data": {
      "application/vnd.microsoft.datawrangler.viewer.v0+json": {
       "columns": [
        {
         "name": "index",
         "rawType": "int64",
         "type": "integer"
        },
        {
         "name": "Airline",
         "rawType": "object",
         "type": "string"
        },
        {
         "name": "Date_of_Journey",
         "rawType": "object",
         "type": "string"
        },
        {
         "name": "Source",
         "rawType": "object",
         "type": "string"
        },
        {
         "name": "Destination",
         "rawType": "object",
         "type": "string"
        },
        {
         "name": "Route",
         "rawType": "object",
         "type": "unknown"
        },
        {
         "name": "Dep_Time",
         "rawType": "object",
         "type": "string"
        },
        {
         "name": "Arrival_Time",
         "rawType": "object",
         "type": "string"
        },
        {
         "name": "Duration",
         "rawType": "object",
         "type": "string"
        },
        {
         "name": "Total_Stops",
         "rawType": "object",
         "type": "unknown"
        },
        {
         "name": "Additional_Info",
         "rawType": "object",
         "type": "string"
        },
        {
         "name": "Price",
         "rawType": "int64",
         "type": "integer"
        }
       ],
       "ref": "616c44d5-bcf3-4fe7-88c6-4811804afda7",
       "rows": [
        [
         "0",
         "IndiGo",
         "24/03/2019",
         "Banglore",
         "New Delhi",
         "BLR → DEL",
         "22:20",
         "01:10 22 Mar",
         "2h 50m",
         "non-stop",
         "No info",
         "3897"
        ],
        [
         "1",
         "Air India",
         "1/05/2019",
         "Kolkata",
         "Banglore",
         "CCU → IXR → BBI → BLR",
         "05:50",
         "13:15",
         "7h 25m",
         "2 stops",
         "No info",
         "7662"
        ],
        [
         "2",
         "Jet Airways",
         "9/06/2019",
         "Delhi",
         "Cochin",
         "DEL → LKO → BOM → COK",
         "09:25",
         "04:25 10 Jun",
         "19h",
         "2 stops",
         "No info",
         "13882"
        ],
        [
         "3",
         "IndiGo",
         "12/05/2019",
         "Kolkata",
         "Banglore",
         "CCU → NAG → BLR",
         "18:05",
         "23:30",
         "5h 25m",
         "1 stop",
         "No info",
         "6218"
        ],
        [
         "4",
         "IndiGo",
         "01/03/2019",
         "Banglore",
         "New Delhi",
         "BLR → NAG → DEL",
         "16:50",
         "21:35",
         "4h 45m",
         "1 stop",
         "No info",
         "13302"
        ],
        [
         "5",
         "SpiceJet",
         "24/06/2019",
         "Kolkata",
         "Banglore",
         "CCU → BLR",
         "09:00",
         "11:25",
         "2h 25m",
         "non-stop",
         "No info",
         "3873"
        ],
        [
         "6",
         "Jet Airways",
         "12/03/2019",
         "Banglore",
         "New Delhi",
         "BLR → BOM → DEL",
         "18:55",
         "10:25 13 Mar",
         "15h 30m",
         "1 stop",
         "In-flight meal not included",
         "11087"
        ],
        [
         "7",
         "Jet Airways",
         "01/03/2019",
         "Banglore",
         "New Delhi",
         "BLR → BOM → DEL",
         "08:00",
         "05:05 02 Mar",
         "21h 5m",
         "1 stop",
         "No info",
         "22270"
        ],
        [
         "8",
         "Jet Airways",
         "12/03/2019",
         "Banglore",
         "New Delhi",
         "BLR → BOM → DEL",
         "08:55",
         "10:25 13 Mar",
         "25h 30m",
         "1 stop",
         "In-flight meal not included",
         "11087"
        ],
        [
         "9",
         "Multiple carriers",
         "27/05/2019",
         "Delhi",
         "Cochin",
         "DEL → BOM → COK",
         "11:25",
         "19:15",
         "7h 50m",
         "1 stop",
         "No info",
         "8625"
        ],
        [
         "10",
         "Air India",
         "1/06/2019",
         "Delhi",
         "Cochin",
         "DEL → BLR → COK",
         "09:45",
         "23:00",
         "13h 15m",
         "1 stop",
         "No info",
         "8907"
        ],
        [
         "11",
         "IndiGo",
         "18/04/2019",
         "Kolkata",
         "Banglore",
         "CCU → BLR",
         "20:20",
         "22:55",
         "2h 35m",
         "non-stop",
         "No info",
         "4174"
        ],
        [
         "12",
         "Air India",
         "24/06/2019",
         "Chennai",
         "Kolkata",
         "MAA → CCU",
         "11:40",
         "13:55",
         "2h 15m",
         "non-stop",
         "No info",
         "4667"
        ],
        [
         "13",
         "Jet Airways",
         "9/05/2019",
         "Kolkata",
         "Banglore",
         "CCU → BOM → BLR",
         "21:10",
         "09:20 10 May",
         "12h 10m",
         "1 stop",
         "In-flight meal not included",
         "9663"
        ],
        [
         "14",
         "IndiGo",
         "24/04/2019",
         "Kolkata",
         "Banglore",
         "CCU → BLR",
         "17:15",
         "19:50",
         "2h 35m",
         "non-stop",
         "No info",
         "4804"
        ],
        [
         "15",
         "Air India",
         "3/03/2019",
         "Delhi",
         "Cochin",
         "DEL → AMD → BOM → COK",
         "16:40",
         "19:15 04 Mar",
         "26h 35m",
         "2 stops",
         "No info",
         "14011"
        ],
        [
         "16",
         "SpiceJet",
         "15/04/2019",
         "Delhi",
         "Cochin",
         "DEL → PNQ → COK",
         "08:45",
         "13:15",
         "4h 30m",
         "1 stop",
         "No info",
         "5830"
        ],
        [
         "17",
         "Jet Airways",
         "12/06/2019",
         "Delhi",
         "Cochin",
         "DEL → BOM → COK",
         "14:00",
         "12:35 13 Jun",
         "22h 35m",
         "1 stop",
         "In-flight meal not included",
         "10262"
        ],
        [
         "18",
         "Air India",
         "12/06/2019",
         "Delhi",
         "Cochin",
         "DEL → CCU → BOM → COK",
         "20:15",
         "19:15 13 Jun",
         "23h",
         "2 stops",
         "No info",
         "13381"
        ],
        [
         "19",
         "Jet Airways",
         "27/05/2019",
         "Delhi",
         "Cochin",
         "DEL → BOM → COK",
         "16:00",
         "12:35 28 May",
         "20h 35m",
         "1 stop",
         "In-flight meal not included",
         "12898"
        ],
        [
         "20",
         "GoAir",
         "6/03/2019",
         "Delhi",
         "Cochin",
         "DEL → BOM → COK",
         "14:10",
         "19:20",
         "5h 10m",
         "1 stop",
         "No info",
         "19495"
        ],
        [
         "21",
         "Air India",
         "21/03/2019",
         "Banglore",
         "New Delhi",
         "BLR → COK → DEL",
         "22:00",
         "13:20 19 Mar",
         "15h 20m",
         "1 stop",
         "No info",
         "6955"
        ],
        [
         "22",
         "IndiGo",
         "3/04/2019",
         "Banglore",
         "Delhi",
         "BLR → DEL",
         "04:00",
         "06:50",
         "2h 50m",
         "non-stop",
         "No info",
         "3943"
        ],
        [
         "23",
         "IndiGo",
         "1/05/2019",
         "Banglore",
         "Delhi",
         "BLR → DEL",
         "18:55",
         "21:50",
         "2h 55m",
         "non-stop",
         "No info",
         "4823"
        ],
        [
         "24",
         "Jet Airways",
         "6/05/2019",
         "Kolkata",
         "Banglore",
         "CCU → BOM → BLR",
         "18:55",
         "08:15 07 May",
         "13h 20m",
         "1 stop",
         "In-flight meal not included",
         "7757"
        ],
        [
         "25",
         "Jet Airways",
         "9/06/2019",
         "Delhi",
         "Cochin",
         "DEL → IDR → BOM → COK",
         "21:25",
         "12:35 10 Jun",
         "15h 10m",
         "2 stops",
         "No info",
         "13292"
        ],
        [
         "26",
         "IndiGo",
         "1/06/2019",
         "Delhi",
         "Cochin",
         "DEL → LKO → COK",
         "21:50",
         "03:35 02 Jun",
         "5h 45m",
         "1 stop",
         "No info",
         "8238"
        ],
        [
         "27",
         "GoAir",
         "15/05/2019",
         "Delhi",
         "Cochin",
         "DEL → BOM → COK",
         "07:00",
         "12:55",
         "5h 55m",
         "1 stop",
         "No info",
         "7682"
        ],
        [
         "28",
         "Vistara",
         "18/06/2019",
         "Banglore",
         "Delhi",
         "BLR → DEL",
         "09:45",
         "12:35",
         "2h 50m",
         "non-stop",
         "No info",
         "4668"
        ],
        [
         "29",
         "Vistara",
         "15/06/2019",
         "Chennai",
         "Kolkata",
         "MAA → CCU",
         "07:05",
         "09:20",
         "2h 15m",
         "non-stop",
         "No info",
         "3687"
        ],
        [
         "30",
         "Vistara",
         "18/06/2019",
         "Chennai",
         "Kolkata",
         "MAA → CCU",
         "07:05",
         "09:20",
         "2h 15m",
         "non-stop",
         "No info",
         "3687"
        ],
        [
         "31",
         "Air India",
         "1/05/2019",
         "Kolkata",
         "Banglore",
         "CCU → GAU → DEL → BLR",
         "09:50",
         "23:15",
         "13h 25m",
         "2 stops",
         "No info",
         "13227"
        ],
        [
         "32",
         "IndiGo",
         "6/04/2019",
         "Banglore",
         "Delhi",
         "BLR → DEL",
         "04:00",
         "06:50",
         "2h 50m",
         "non-stop",
         "No info",
         "4423"
        ],
        [
         "33",
         "Jet Airways",
         "15/06/2019",
         "Delhi",
         "Cochin",
         "DEL → NAG → BOM → COK",
         "14:35",
         "12:35 16 Jun",
         "22h",
         "2 stops",
         "In-flight meal not included",
         "10919"
        ],
        [
         "34",
         "Jet Airways",
         "18/05/2019",
         "Delhi",
         "Cochin",
         "DEL → BOM → COK",
         "07:05",
         "12:35",
         "5h 30m",
         "1 stop",
         "In-flight meal not included",
         "12373"
        ],
        [
         "35",
         "IndiGo",
         "27/06/2019",
         "Delhi",
         "Cochin",
         "DEL → BOM → COK",
         "10:35",
         "21:00",
         "10h 25m",
         "1 stop",
         "No info",
         "5894"
        ],
        [
         "36",
         "SpiceJet",
         "21/05/2019",
         "Kolkata",
         "Banglore",
         "CCU → MAA → BLR",
         "15:05",
         "20:20",
         "5h 15m",
         "1 stop",
         "No info",
         "4649"
        ],
        [
         "37",
         "Air India",
         "18/05/2019",
         "Kolkata",
         "Banglore",
         "CCU → BLR",
         "14:15",
         "16:45",
         "2h 30m",
         "non-stop",
         "No info",
         "6245"
        ],
        [
         "38",
         "Jet Airways",
         "06/03/2019",
         "Banglore",
         "New Delhi",
         "BLR → BOM → DEL",
         "07:00",
         "13:15",
         "6h 15m",
         "1 stop",
         "No info",
         "19225"
        ],
        [
         "39",
         "Jet Airways",
         "3/06/2019",
         "Delhi",
         "Cochin",
         "DEL → BOM → COK",
         "07:05",
         "19:00",
         "11h 55m",
         "1 stop",
         "No info",
         "14924"
        ],
        [
         "40",
         "Multiple carriers",
         "21/05/2019",
         "Delhi",
         "Cochin",
         "DEL → HYD → COK",
         "07:05",
         "18:10",
         "11h 5m",
         "1 stop",
         "No info",
         "9646"
        ],
        [
         "41",
         "Air India",
         "15/03/2019",
         "Banglore",
         "New Delhi",
         "BLR → BOM → DEL",
         "06:45",
         "15:15",
         "8h 30m",
         "1 stop",
         "No info",
         "8714"
        ],
        [
         "42",
         "Jet Airways",
         "18/05/2019",
         "Delhi",
         "Cochin",
         "DEL → BOM → COK",
         "20:55",
         "19:00 19 May",
         "22h 5m",
         "1 stop",
         "In-flight meal not included",
         "12373"
        ],
        [
         "43",
         "Air Asia",
         "6/05/2019",
         "Banglore",
         "Delhi",
         "BLR → DEL",
         "11:10",
         "13:55",
         "2h 45m",
         "non-stop",
         "No info",
         "3383"
        ],
        [
         "44",
         "Multiple carriers",
         "21/03/2019",
         "Delhi",
         "Cochin",
         "DEL → BOM → COK",
         "09:00",
         "21:00",
         "12h",
         "1 stop",
         "No info",
         "13062"
        ],
        [
         "45",
         "SpiceJet",
         "24/03/2019",
         "Banglore",
         "New Delhi",
         "BLR → DEL",
         "05:45",
         "08:35",
         "2h 50m",
         "non-stop",
         "No check-in baggage included",
         "3527"
        ],
        [
         "46",
         "IndiGo",
         "27/05/2019",
         "Banglore",
         "Delhi",
         "BLR → DEL",
         "04:00",
         "06:50",
         "2h 50m",
         "non-stop",
         "No info",
         "3943"
        ],
        [
         "47",
         "Air India",
         "3/05/2019",
         "Chennai",
         "Kolkata",
         "MAA → CCU",
         "11:40",
         "13:55",
         "2h 15m",
         "non-stop",
         "No info",
         "4667"
        ],
        [
         "48",
         "Air India",
         "15/05/2019",
         "Kolkata",
         "Banglore",
         "CCU → HYD → BLR",
         "19:00",
         "11:05 16 May",
         "16h 5m",
         "1 stop",
         "No info",
         "6117"
        ],
        [
         "49",
         "Jet Airways",
         "27/06/2019",
         "Delhi",
         "Cochin",
         "DEL → AMD → BOM → COK",
         "23:05",
         "19:00 28 Jun",
         "19h 55m",
         "2 stops",
         "In-flight meal not included",
         "11150"
        ]
       ],
       "shape": {
        "columns": 11,
        "rows": 10683
       }
      },
      "text/html": [
       "<div>\n",
       "<style scoped>\n",
       "    .dataframe tbody tr th:only-of-type {\n",
       "        vertical-align: middle;\n",
       "    }\n",
       "\n",
       "    .dataframe tbody tr th {\n",
       "        vertical-align: top;\n",
       "    }\n",
       "\n",
       "    .dataframe thead th {\n",
       "        text-align: right;\n",
       "    }\n",
       "</style>\n",
       "<table border=\"1\" class=\"dataframe\">\n",
       "  <thead>\n",
       "    <tr style=\"text-align: right;\">\n",
       "      <th></th>\n",
       "      <th>Airline</th>\n",
       "      <th>Date_of_Journey</th>\n",
       "      <th>Source</th>\n",
       "      <th>Destination</th>\n",
       "      <th>Route</th>\n",
       "      <th>Dep_Time</th>\n",
       "      <th>Arrival_Time</th>\n",
       "      <th>Duration</th>\n",
       "      <th>Total_Stops</th>\n",
       "      <th>Additional_Info</th>\n",
       "      <th>Price</th>\n",
       "    </tr>\n",
       "  </thead>\n",
       "  <tbody>\n",
       "    <tr>\n",
       "      <th>0</th>\n",
       "      <td>IndiGo</td>\n",
       "      <td>24/03/2019</td>\n",
       "      <td>Banglore</td>\n",
       "      <td>New Delhi</td>\n",
       "      <td>BLR → DEL</td>\n",
       "      <td>22:20</td>\n",
       "      <td>01:10 22 Mar</td>\n",
       "      <td>2h 50m</td>\n",
       "      <td>non-stop</td>\n",
       "      <td>No info</td>\n",
       "      <td>3897</td>\n",
       "    </tr>\n",
       "    <tr>\n",
       "      <th>1</th>\n",
       "      <td>Air India</td>\n",
       "      <td>1/05/2019</td>\n",
       "      <td>Kolkata</td>\n",
       "      <td>Banglore</td>\n",
       "      <td>CCU → IXR → BBI → BLR</td>\n",
       "      <td>05:50</td>\n",
       "      <td>13:15</td>\n",
       "      <td>7h 25m</td>\n",
       "      <td>2 stops</td>\n",
       "      <td>No info</td>\n",
       "      <td>7662</td>\n",
       "    </tr>\n",
       "    <tr>\n",
       "      <th>2</th>\n",
       "      <td>Jet Airways</td>\n",
       "      <td>9/06/2019</td>\n",
       "      <td>Delhi</td>\n",
       "      <td>Cochin</td>\n",
       "      <td>DEL → LKO → BOM → COK</td>\n",
       "      <td>09:25</td>\n",
       "      <td>04:25 10 Jun</td>\n",
       "      <td>19h</td>\n",
       "      <td>2 stops</td>\n",
       "      <td>No info</td>\n",
       "      <td>13882</td>\n",
       "    </tr>\n",
       "    <tr>\n",
       "      <th>3</th>\n",
       "      <td>IndiGo</td>\n",
       "      <td>12/05/2019</td>\n",
       "      <td>Kolkata</td>\n",
       "      <td>Banglore</td>\n",
       "      <td>CCU → NAG → BLR</td>\n",
       "      <td>18:05</td>\n",
       "      <td>23:30</td>\n",
       "      <td>5h 25m</td>\n",
       "      <td>1 stop</td>\n",
       "      <td>No info</td>\n",
       "      <td>6218</td>\n",
       "    </tr>\n",
       "    <tr>\n",
       "      <th>4</th>\n",
       "      <td>IndiGo</td>\n",
       "      <td>01/03/2019</td>\n",
       "      <td>Banglore</td>\n",
       "      <td>New Delhi</td>\n",
       "      <td>BLR → NAG → DEL</td>\n",
       "      <td>16:50</td>\n",
       "      <td>21:35</td>\n",
       "      <td>4h 45m</td>\n",
       "      <td>1 stop</td>\n",
       "      <td>No info</td>\n",
       "      <td>13302</td>\n",
       "    </tr>\n",
       "    <tr>\n",
       "      <th>...</th>\n",
       "      <td>...</td>\n",
       "      <td>...</td>\n",
       "      <td>...</td>\n",
       "      <td>...</td>\n",
       "      <td>...</td>\n",
       "      <td>...</td>\n",
       "      <td>...</td>\n",
       "      <td>...</td>\n",
       "      <td>...</td>\n",
       "      <td>...</td>\n",
       "      <td>...</td>\n",
       "    </tr>\n",
       "    <tr>\n",
       "      <th>10678</th>\n",
       "      <td>Air Asia</td>\n",
       "      <td>9/04/2019</td>\n",
       "      <td>Kolkata</td>\n",
       "      <td>Banglore</td>\n",
       "      <td>CCU → BLR</td>\n",
       "      <td>19:55</td>\n",
       "      <td>22:25</td>\n",
       "      <td>2h 30m</td>\n",
       "      <td>non-stop</td>\n",
       "      <td>No info</td>\n",
       "      <td>4107</td>\n",
       "    </tr>\n",
       "    <tr>\n",
       "      <th>10679</th>\n",
       "      <td>Air India</td>\n",
       "      <td>27/04/2019</td>\n",
       "      <td>Kolkata</td>\n",
       "      <td>Banglore</td>\n",
       "      <td>CCU → BLR</td>\n",
       "      <td>20:45</td>\n",
       "      <td>23:20</td>\n",
       "      <td>2h 35m</td>\n",
       "      <td>non-stop</td>\n",
       "      <td>No info</td>\n",
       "      <td>4145</td>\n",
       "    </tr>\n",
       "    <tr>\n",
       "      <th>10680</th>\n",
       "      <td>Jet Airways</td>\n",
       "      <td>27/04/2019</td>\n",
       "      <td>Banglore</td>\n",
       "      <td>Delhi</td>\n",
       "      <td>BLR → DEL</td>\n",
       "      <td>08:20</td>\n",
       "      <td>11:20</td>\n",
       "      <td>3h</td>\n",
       "      <td>non-stop</td>\n",
       "      <td>No info</td>\n",
       "      <td>7229</td>\n",
       "    </tr>\n",
       "    <tr>\n",
       "      <th>10681</th>\n",
       "      <td>Vistara</td>\n",
       "      <td>01/03/2019</td>\n",
       "      <td>Banglore</td>\n",
       "      <td>New Delhi</td>\n",
       "      <td>BLR → DEL</td>\n",
       "      <td>11:30</td>\n",
       "      <td>14:10</td>\n",
       "      <td>2h 40m</td>\n",
       "      <td>non-stop</td>\n",
       "      <td>No info</td>\n",
       "      <td>12648</td>\n",
       "    </tr>\n",
       "    <tr>\n",
       "      <th>10682</th>\n",
       "      <td>Air India</td>\n",
       "      <td>9/05/2019</td>\n",
       "      <td>Delhi</td>\n",
       "      <td>Cochin</td>\n",
       "      <td>DEL → GOI → BOM → COK</td>\n",
       "      <td>10:55</td>\n",
       "      <td>19:15</td>\n",
       "      <td>8h 20m</td>\n",
       "      <td>2 stops</td>\n",
       "      <td>No info</td>\n",
       "      <td>11753</td>\n",
       "    </tr>\n",
       "  </tbody>\n",
       "</table>\n",
       "<p>10683 rows × 11 columns</p>\n",
       "</div>"
      ],
      "text/plain": [
       "           Airline Date_of_Journey    Source Destination  \\\n",
       "0           IndiGo      24/03/2019  Banglore   New Delhi   \n",
       "1        Air India       1/05/2019   Kolkata    Banglore   \n",
       "2      Jet Airways       9/06/2019     Delhi      Cochin   \n",
       "3           IndiGo      12/05/2019   Kolkata    Banglore   \n",
       "4           IndiGo      01/03/2019  Banglore   New Delhi   \n",
       "...            ...             ...       ...         ...   \n",
       "10678     Air Asia       9/04/2019   Kolkata    Banglore   \n",
       "10679    Air India      27/04/2019   Kolkata    Banglore   \n",
       "10680  Jet Airways      27/04/2019  Banglore       Delhi   \n",
       "10681      Vistara      01/03/2019  Banglore   New Delhi   \n",
       "10682    Air India       9/05/2019     Delhi      Cochin   \n",
       "\n",
       "                       Route Dep_Time  Arrival_Time Duration Total_Stops  \\\n",
       "0                  BLR → DEL    22:20  01:10 22 Mar   2h 50m    non-stop   \n",
       "1      CCU → IXR → BBI → BLR    05:50         13:15   7h 25m     2 stops   \n",
       "2      DEL → LKO → BOM → COK    09:25  04:25 10 Jun      19h     2 stops   \n",
       "3            CCU → NAG → BLR    18:05         23:30   5h 25m      1 stop   \n",
       "4            BLR → NAG → DEL    16:50         21:35   4h 45m      1 stop   \n",
       "...                      ...      ...           ...      ...         ...   \n",
       "10678              CCU → BLR    19:55         22:25   2h 30m    non-stop   \n",
       "10679              CCU → BLR    20:45         23:20   2h 35m    non-stop   \n",
       "10680              BLR → DEL    08:20         11:20       3h    non-stop   \n",
       "10681              BLR → DEL    11:30         14:10   2h 40m    non-stop   \n",
       "10682  DEL → GOI → BOM → COK    10:55         19:15   8h 20m     2 stops   \n",
       "\n",
       "      Additional_Info  Price  \n",
       "0             No info   3897  \n",
       "1             No info   7662  \n",
       "2             No info  13882  \n",
       "3             No info   6218  \n",
       "4             No info  13302  \n",
       "...               ...    ...  \n",
       "10678         No info   4107  \n",
       "10679         No info   4145  \n",
       "10680         No info   7229  \n",
       "10681         No info  12648  \n",
       "10682         No info  11753  \n",
       "\n",
       "[10683 rows x 11 columns]"
      ]
     },
     "execution_count": 5,
     "metadata": {},
     "output_type": "execute_result"
    }
   ],
   "source": [
    "flights "
   ]
  },
  {
   "cell_type": "code",
   "execution_count": 5,
   "id": "bf9d98d1",
   "metadata": {},
   "outputs": [
    {
     "data": {
      "text/plain": [
       "(10683, 11)"
      ]
     },
     "execution_count": 5,
     "metadata": {},
     "output_type": "execute_result"
    }
   ],
   "source": [
    "flights.shape"
   ]
  },
  {
   "cell_type": "code",
   "execution_count": 6,
   "id": "12811422",
   "metadata": {},
   "outputs": [
    {
     "name": "stdout",
     "output_type": "stream",
     "text": [
      "<class 'pandas.core.frame.DataFrame'>\n",
      "RangeIndex: 10683 entries, 0 to 10682\n",
      "Data columns (total 11 columns):\n",
      " #   Column           Non-Null Count  Dtype \n",
      "---  ------           --------------  ----- \n",
      " 0   Airline          10683 non-null  object\n",
      " 1   Date_of_Journey  10683 non-null  object\n",
      " 2   Source           10683 non-null  object\n",
      " 3   Destination      10683 non-null  object\n",
      " 4   Route            10682 non-null  object\n",
      " 5   Dep_Time         10683 non-null  object\n",
      " 6   Arrival_Time     10683 non-null  object\n",
      " 7   Duration         10683 non-null  object\n",
      " 8   Total_Stops      10682 non-null  object\n",
      " 9   Additional_Info  10683 non-null  object\n",
      " 10  Price            10683 non-null  int64 \n",
      "dtypes: int64(1), object(10)\n",
      "memory usage: 918.2+ KB\n"
     ]
    }
   ],
   "source": [
    "flights.info()"
   ]
  },
  {
   "cell_type": "markdown",
   "id": "40834179",
   "metadata": {},
   "source": [
    "- the dataset has 10 683 rows and 11 colms\n",
    "- columns like Date_of_Journey, Dep_Time, Arrival_Time have wrong data types\n",
    "- 'Route' and 'Total_Stops' have 1 missing value each"
   ]
  },
  {
   "cell_type": "markdown",
   "id": "4bb3ceae",
   "metadata": {},
   "source": [
    "### 3. Preliminary Analysis"
   ]
  },
  {
   "cell_type": "markdown",
   "id": "8a71a173",
   "metadata": {},
   "source": [
    "#### 3.1 check data types  "
   ]
  },
  {
   "cell_type": "code",
   "execution_count": 7,
   "id": "48291df9",
   "metadata": {},
   "outputs": [
    {
     "data": {
      "text/html": [
       "<div>\n",
       "<style scoped>\n",
       "    .dataframe tbody tr th:only-of-type {\n",
       "        vertical-align: middle;\n",
       "    }\n",
       "\n",
       "    .dataframe tbody tr th {\n",
       "        vertical-align: top;\n",
       "    }\n",
       "\n",
       "    .dataframe thead th {\n",
       "        text-align: right;\n",
       "    }\n",
       "</style>\n",
       "<table border=\"1\" class=\"dataframe\">\n",
       "  <thead>\n",
       "    <tr style=\"text-align: right;\">\n",
       "      <th></th>\n",
       "      <th>Airline</th>\n",
       "      <th>Date_of_Journey</th>\n",
       "      <th>Source</th>\n",
       "      <th>Destination</th>\n",
       "      <th>Route</th>\n",
       "      <th>Dep_Time</th>\n",
       "      <th>Arrival_Time</th>\n",
       "      <th>Duration</th>\n",
       "      <th>Total_Stops</th>\n",
       "      <th>Additional_Info</th>\n",
       "      <th>Price</th>\n",
       "    </tr>\n",
       "  </thead>\n",
       "  <tbody>\n",
       "    <tr>\n",
       "      <th>0</th>\n",
       "      <td>IndiGo</td>\n",
       "      <td>24/03/2019</td>\n",
       "      <td>Banglore</td>\n",
       "      <td>New Delhi</td>\n",
       "      <td>BLR → DEL</td>\n",
       "      <td>22:20</td>\n",
       "      <td>01:10 22 Mar</td>\n",
       "      <td>2h 50m</td>\n",
       "      <td>non-stop</td>\n",
       "      <td>No info</td>\n",
       "      <td>3897</td>\n",
       "    </tr>\n",
       "    <tr>\n",
       "      <th>1</th>\n",
       "      <td>Air India</td>\n",
       "      <td>1/05/2019</td>\n",
       "      <td>Kolkata</td>\n",
       "      <td>Banglore</td>\n",
       "      <td>CCU → IXR → BBI → BLR</td>\n",
       "      <td>05:50</td>\n",
       "      <td>13:15</td>\n",
       "      <td>7h 25m</td>\n",
       "      <td>2 stops</td>\n",
       "      <td>No info</td>\n",
       "      <td>7662</td>\n",
       "    </tr>\n",
       "    <tr>\n",
       "      <th>2</th>\n",
       "      <td>Jet Airways</td>\n",
       "      <td>9/06/2019</td>\n",
       "      <td>Delhi</td>\n",
       "      <td>Cochin</td>\n",
       "      <td>DEL → LKO → BOM → COK</td>\n",
       "      <td>09:25</td>\n",
       "      <td>04:25 10 Jun</td>\n",
       "      <td>19h</td>\n",
       "      <td>2 stops</td>\n",
       "      <td>No info</td>\n",
       "      <td>13882</td>\n",
       "    </tr>\n",
       "    <tr>\n",
       "      <th>3</th>\n",
       "      <td>IndiGo</td>\n",
       "      <td>12/05/2019</td>\n",
       "      <td>Kolkata</td>\n",
       "      <td>Banglore</td>\n",
       "      <td>CCU → NAG → BLR</td>\n",
       "      <td>18:05</td>\n",
       "      <td>23:30</td>\n",
       "      <td>5h 25m</td>\n",
       "      <td>1 stop</td>\n",
       "      <td>No info</td>\n",
       "      <td>6218</td>\n",
       "    </tr>\n",
       "    <tr>\n",
       "      <th>4</th>\n",
       "      <td>IndiGo</td>\n",
       "      <td>01/03/2019</td>\n",
       "      <td>Banglore</td>\n",
       "      <td>New Delhi</td>\n",
       "      <td>BLR → NAG → DEL</td>\n",
       "      <td>16:50</td>\n",
       "      <td>21:35</td>\n",
       "      <td>4h 45m</td>\n",
       "      <td>1 stop</td>\n",
       "      <td>No info</td>\n",
       "      <td>13302</td>\n",
       "    </tr>\n",
       "  </tbody>\n",
       "</table>\n",
       "</div>"
      ],
      "text/plain": [
       "       Airline Date_of_Journey    Source Destination                  Route  \\\n",
       "0       IndiGo      24/03/2019  Banglore   New Delhi              BLR → DEL   \n",
       "1    Air India       1/05/2019   Kolkata    Banglore  CCU → IXR → BBI → BLR   \n",
       "2  Jet Airways       9/06/2019     Delhi      Cochin  DEL → LKO → BOM → COK   \n",
       "3       IndiGo      12/05/2019   Kolkata    Banglore        CCU → NAG → BLR   \n",
       "4       IndiGo      01/03/2019  Banglore   New Delhi        BLR → NAG → DEL   \n",
       "\n",
       "  Dep_Time  Arrival_Time Duration Total_Stops Additional_Info  Price  \n",
       "0    22:20  01:10 22 Mar   2h 50m    non-stop         No info   3897  \n",
       "1    05:50         13:15   7h 25m     2 stops         No info   7662  \n",
       "2    09:25  04:25 10 Jun      19h     2 stops         No info  13882  \n",
       "3    18:05         23:30   5h 25m      1 stop         No info   6218  \n",
       "4    16:50         21:35   4h 45m      1 stop         No info  13302  "
      ]
     },
     "execution_count": 7,
     "metadata": {},
     "output_type": "execute_result"
    }
   ],
   "source": [
    "flights.head()"
   ]
  },
  {
   "cell_type": "code",
   "execution_count": 6,
   "id": "8d33b17c",
   "metadata": {},
   "outputs": [
    {
     "data": {
      "application/vnd.microsoft.datawrangler.viewer.v0+json": {
       "columns": [
        {
         "name": "index",
         "rawType": "object",
         "type": "string"
        },
        {
         "name": "0",
         "rawType": "object",
         "type": "unknown"
        }
       ],
       "ref": "59634054-1e55-43e5-a927-5d09eaec737d",
       "rows": [
        [
         "Airline",
         "object"
        ],
        [
         "Date_of_Journey",
         "object"
        ],
        [
         "Source",
         "object"
        ],
        [
         "Destination",
         "object"
        ],
        [
         "Route",
         "object"
        ],
        [
         "Dep_Time",
         "object"
        ],
        [
         "Arrival_Time",
         "object"
        ],
        [
         "Duration",
         "object"
        ],
        [
         "Total_Stops",
         "object"
        ],
        [
         "Additional_Info",
         "object"
        ],
        [
         "Price",
         "int64"
        ]
       ],
       "shape": {
        "columns": 1,
        "rows": 11
       }
      },
      "text/plain": [
       "Airline            object\n",
       "Date_of_Journey    object\n",
       "Source             object\n",
       "Destination        object\n",
       "Route              object\n",
       "Dep_Time           object\n",
       "Arrival_Time       object\n",
       "Duration           object\n",
       "Total_Stops        object\n",
       "Additional_Info    object\n",
       "Price               int64\n",
       "dtype: object"
      ]
     },
     "execution_count": 6,
     "metadata": {},
     "output_type": "execute_result"
    }
   ],
   "source": [
    "flights.dtypes"
   ]
  },
  {
   "cell_type": "code",
   "execution_count": null,
   "id": "3354f8f4",
   "metadata": {},
   "outputs": [
    {
     "data": {
      "text/plain": [
       "'24/03/2019'"
      ]
     },
     "execution_count": 8,
     "metadata": {},
     "output_type": "execute_result"
    }
   ],
   "source": [
    "flights['Date_of_Journey'].iloc[0] "
   ]
  },
  {
   "cell_type": "code",
   "execution_count": 12,
   "id": "c032bfc9",
   "metadata": {},
   "outputs": [
    {
     "data": {
      "text/plain": [
       "array(['non-stop', '2 stops', '1 stop', '3 stops', nan, '4 stops'],\n",
       "      dtype=object)"
      ]
     },
     "execution_count": 12,
     "metadata": {},
     "output_type": "execute_result"
    }
   ],
   "source": [
    "flights['Total_Stops'].unique()"
   ]
  },
  {
   "cell_type": "code",
   "execution_count": 13,
   "id": "c9383599",
   "metadata": {},
   "outputs": [
    {
     "data": {
      "application/vnd.microsoft.datawrangler.viewer.v0+json": {
       "columns": [
        {
         "name": "Additional_Info",
         "rawType": "object",
         "type": "string"
        },
        {
         "name": "count",
         "rawType": "int64",
         "type": "integer"
        }
       ],
       "ref": "359811e7-51e8-4eaa-a85b-9345c3857a4f",
       "rows": [
        [
         "No info",
         "8345"
        ],
        [
         "In-flight meal not included",
         "1982"
        ],
        [
         "No check-in baggage included",
         "320"
        ],
        [
         "1 Long layover",
         "19"
        ],
        [
         "Change airports",
         "7"
        ],
        [
         "Business class",
         "4"
        ],
        [
         "No Info",
         "3"
        ],
        [
         "1 Short layover",
         "1"
        ],
        [
         "Red-eye flight",
         "1"
        ],
        [
         "2 Long layover",
         "1"
        ]
       ],
       "shape": {
        "columns": 1,
        "rows": 10
       }
      },
      "text/plain": [
       "Additional_Info\n",
       "No info                         8345\n",
       "In-flight meal not included     1982\n",
       "No check-in baggage included     320\n",
       "1 Long layover                    19\n",
       "Change airports                    7\n",
       "Business class                     4\n",
       "No Info                            3\n",
       "1 Short layover                    1\n",
       "Red-eye flight                     1\n",
       "2 Long layover                     1\n",
       "Name: count, dtype: int64"
      ]
     },
     "execution_count": 13,
     "metadata": {},
     "output_type": "execute_result"
    }
   ],
   "source": [
    "flights['Additional_Info'].value_counts()"
   ]
  },
  {
   "cell_type": "markdown",
   "id": "3773daee",
   "metadata": {},
   "source": [
    "#### 3.2 Check duplicates"
   ]
  },
  {
   "cell_type": "code",
   "execution_count": 19,
   "id": "a1e59283",
   "metadata": {},
   "outputs": [
    {
     "data": {
      "text/plain": [
       "220"
      ]
     },
     "execution_count": 19,
     "metadata": {},
     "output_type": "execute_result"
    }
   ],
   "source": [
    "#check duplicate rows\n",
    "flights.duplicated().sum()"
   ]
  },
  {
   "cell_type": "code",
   "execution_count": 20,
   "id": "741e367b",
   "metadata": {},
   "outputs": [],
   "source": [
    "import pandas as pd\n",
    "\n",
    "pd.reset_option('display.max_rows')\n"
   ]
  },
  {
   "cell_type": "code",
   "execution_count": 21,
   "id": "047f70d3",
   "metadata": {},
   "outputs": [
    {
     "data": {
      "application/vnd.microsoft.datawrangler.viewer.v0+json": {
       "columns": [
        {
         "name": "index",
         "rawType": "int64",
         "type": "integer"
        },
        {
         "name": "Airline",
         "rawType": "object",
         "type": "string"
        },
        {
         "name": "Date_of_Journey",
         "rawType": "object",
         "type": "string"
        },
        {
         "name": "Source",
         "rawType": "object",
         "type": "string"
        },
        {
         "name": "Destination",
         "rawType": "object",
         "type": "string"
        },
        {
         "name": "Route",
         "rawType": "object",
         "type": "string"
        },
        {
         "name": "Dep_Time",
         "rawType": "object",
         "type": "string"
        },
        {
         "name": "Arrival_Time",
         "rawType": "object",
         "type": "string"
        },
        {
         "name": "Duration",
         "rawType": "object",
         "type": "string"
        },
        {
         "name": "Total_Stops",
         "rawType": "object",
         "type": "string"
        },
        {
         "name": "Additional_Info",
         "rawType": "object",
         "type": "string"
        },
        {
         "name": "Price",
         "rawType": "int64",
         "type": "integer"
        }
       ],
       "ref": "0472498e-b71d-47a4-aa51-7574fd963b9e",
       "rows": [
        [
         "6321",
         "Air India",
         "01/03/2019",
         "Banglore",
         "New Delhi",
         "BLR → BOM → AMD → DEL",
         "08:50",
         "23:55 02 Mar",
         "39h 5m",
         "2 stops",
         "No info",
         "17135"
        ],
        [
         "9848",
         "Air India",
         "01/03/2019",
         "Banglore",
         "New Delhi",
         "BLR → BOM → AMD → DEL",
         "08:50",
         "23:55 02 Mar",
         "39h 5m",
         "2 stops",
         "No info",
         "17135"
        ],
        [
         "572",
         "Air India",
         "03/03/2019",
         "Banglore",
         "New Delhi",
         "BLR → DEL",
         "21:10",
         "23:55",
         "2h 45m",
         "non-stop",
         "No info",
         "7591"
        ],
        [
         "8168",
         "Air India",
         "03/03/2019",
         "Banglore",
         "New Delhi",
         "BLR → DEL",
         "21:10",
         "23:55",
         "2h 45m",
         "non-stop",
         "No info",
         "7591"
        ],
        [
         "1495",
         "Air India",
         "1/04/2019",
         "Kolkata",
         "Banglore",
         "CCU → DEL → COK → BLR",
         "10:00",
         "01:20 02 Apr",
         "15h 20m",
         "2 stops",
         "No info",
         "10408"
        ],
        [
         "9913",
         "Air India",
         "1/04/2019",
         "Kolkata",
         "Banglore",
         "CCU → DEL → COK → BLR",
         "10:00",
         "01:20 02 Apr",
         "15h 20m",
         "2 stops",
         "No info",
         "10408"
        ],
        [
         "3598",
         "Air India",
         "1/05/2019",
         "Kolkata",
         "Banglore",
         "CCU → GAU → DEL → BLR",
         "09:50",
         "08:55 02 May",
         "23h 5m",
         "2 stops",
         "No info",
         "13227"
        ],
        [
         "10183",
         "Air India",
         "1/05/2019",
         "Kolkata",
         "Banglore",
         "CCU → GAU → DEL → BLR",
         "09:50",
         "08:55 02 May",
         "23h 5m",
         "2 stops",
         "No info",
         "13227"
        ],
        [
         "4603",
         "Air India",
         "1/05/2019",
         "Kolkata",
         "Banglore",
         "CCU → DEL → COK → BLR",
         "10:00",
         "13:45 02 May",
         "27h 45m",
         "2 stops",
         "No info",
         "15164"
        ],
        [
         "5042",
         "Air India",
         "1/05/2019",
         "Kolkata",
         "Banglore",
         "CCU → DEL → COK → BLR",
         "10:00",
         "13:45 02 May",
         "27h 45m",
         "2 stops",
         "No info",
         "15164"
        ],
        [
         "6377",
         "Air India",
         "1/05/2019",
         "Kolkata",
         "Banglore",
         "CCU → DEL → COK → BLR",
         "10:00",
         "13:45 02 May",
         "27h 45m",
         "2 stops",
         "No info",
         "15164"
        ],
        [
         "3311",
         "Air India",
         "1/06/2019",
         "Delhi",
         "Cochin",
         "DEL → HYD → BOM → COK",
         "17:15",
         "19:15 02 Jun",
         "26h",
         "2 stops",
         "No info",
         "12970"
        ],
        [
         "4571",
         "Air India",
         "1/06/2019",
         "Delhi",
         "Cochin",
         "DEL → HYD → BOM → COK",
         "17:15",
         "19:15 02 Jun",
         "26h",
         "2 stops",
         "No info",
         "12970"
        ],
        [
         "251",
         "Air India",
         "1/06/2019",
         "Delhi",
         "Cochin",
         "DEL → AMD → BOM → COK",
         "19:45",
         "19:15 02 Jun",
         "23h 30m",
         "2 stops",
         "No info",
         "10651"
        ],
        [
         "1982",
         "Air India",
         "1/06/2019",
         "Delhi",
         "Cochin",
         "DEL → AMD → BOM → COK",
         "19:45",
         "19:15 02 Jun",
         "23h 30m",
         "2 stops",
         "No info",
         "10651"
        ],
        [
         "1069",
         "Air India",
         "1/06/2019",
         "Delhi",
         "Cochin",
         "DEL → GOI → BOM → COK",
         "22:00",
         "19:15 02 Jun",
         "21h 15m",
         "2 stops",
         "No info",
         "10441"
        ],
        [
         "7229",
         "Air India",
         "1/06/2019",
         "Delhi",
         "Cochin",
         "DEL → GOI → BOM → COK",
         "22:00",
         "19:15 02 Jun",
         "21h 15m",
         "2 stops",
         "No info",
         "10441"
        ],
        [
         "5222",
         "Air India",
         "12/03/2019",
         "Banglore",
         "New Delhi",
         "BLR → BOM → NAG → DEL",
         "08:50",
         "10:15 13 Mar",
         "25h 25m",
         "2 stops",
         "No info",
         "12778"
        ],
        [
         "9942",
         "Air India",
         "12/03/2019",
         "Banglore",
         "New Delhi",
         "BLR → BOM → NAG → DEL",
         "08:50",
         "10:15 13 Mar",
         "25h 25m",
         "2 stops",
         "No info",
         "12778"
        ],
        [
         "7869",
         "Air India",
         "12/06/2019",
         "Delhi",
         "Cochin",
         "DEL → GOI → BOM → COK",
         "22:00",
         "19:15 13 Jun",
         "21h 15m",
         "2 stops",
         "No info",
         "10231"
        ],
        [
         "10265",
         "Air India",
         "12/06/2019",
         "Delhi",
         "Cochin",
         "DEL → GOI → BOM → COK",
         "22:00",
         "19:15 13 Jun",
         "21h 15m",
         "2 stops",
         "No info",
         "10231"
        ],
        [
         "4147",
         "Air India",
         "15/05/2019",
         "Delhi",
         "Cochin",
         "DEL → GOI → BOM → COK",
         "22:00",
         "19:15 16 May",
         "21h 15m",
         "2 stops",
         "No info",
         "11281"
        ],
        [
         "7104",
         "Air India",
         "15/05/2019",
         "Delhi",
         "Cochin",
         "DEL → GOI → BOM → COK",
         "22:00",
         "19:15 16 May",
         "21h 15m",
         "2 stops",
         "No info",
         "11281"
        ],
        [
         "8383",
         "Air India",
         "15/05/2019",
         "Delhi",
         "Cochin",
         "DEL → GOI → BOM → COK",
         "22:00",
         "19:15 16 May",
         "21h 15m",
         "2 stops",
         "No info",
         "11281"
        ],
        [
         "2276",
         "Air India",
         "15/05/2019",
         "Kolkata",
         "Banglore",
         "CCU → DEL → COK → BLR",
         "10:00",
         "13:45 16 May",
         "27h 45m",
         "2 stops",
         "No info",
         "16057"
        ],
        [
         "5014",
         "Air India",
         "15/05/2019",
         "Kolkata",
         "Banglore",
         "CCU → DEL → COK → BLR",
         "10:00",
         "13:45 16 May",
         "27h 45m",
         "2 stops",
         "No info",
         "16057"
        ],
        [
         "1786",
         "Air India",
         "15/06/2019",
         "Delhi",
         "Cochin",
         "DEL → AMD → BOM → COK",
         "19:45",
         "19:15 16 Jun",
         "23h 30m",
         "2 stops",
         "No info",
         "9653"
        ],
        [
         "2595",
         "Air India",
         "15/06/2019",
         "Delhi",
         "Cochin",
         "DEL → AMD → BOM → COK",
         "19:45",
         "19:15 16 Jun",
         "23h 30m",
         "2 stops",
         "No info",
         "9653"
        ],
        [
         "8381",
         "Air India",
         "18/05/2019",
         "Delhi",
         "Cochin",
         "DEL → AMD → BOM → COK",
         "16:40",
         "19:15 19 May",
         "26h 35m",
         "2 stops",
         "No info",
         "9863"
        ],
        [
         "9333",
         "Air India",
         "18/05/2019",
         "Delhi",
         "Cochin",
         "DEL → AMD → BOM → COK",
         "16:40",
         "19:15 19 May",
         "26h 35m",
         "2 stops",
         "No info",
         "9863"
        ],
        [
         "410",
         "Air India",
         "18/05/2019",
         "Delhi",
         "Cochin",
         "DEL → HYD → BOM → COK",
         "17:15",
         "19:15 19 May",
         "26h",
         "2 stops",
         "No info",
         "12392"
        ],
        [
         "1348",
         "Air India",
         "18/05/2019",
         "Delhi",
         "Cochin",
         "DEL → HYD → BOM → COK",
         "17:15",
         "19:15 19 May",
         "26h",
         "2 stops",
         "No info",
         "12392"
        ],
        [
         "8112",
         "Air India",
         "18/05/2019",
         "Delhi",
         "Cochin",
         "DEL → HYD → BOM → COK",
         "17:15",
         "19:15 19 May",
         "26h",
         "2 stops",
         "No info",
         "12392"
        ],
        [
         "7277",
         "Air India",
         "18/05/2019",
         "Delhi",
         "Cochin",
         "DEL → AMD → BOM → COK",
         "19:45",
         "19:15 19 May",
         "23h 30m",
         "2 stops",
         "No info",
         "10651"
        ],
        [
         "8529",
         "Air India",
         "18/05/2019",
         "Delhi",
         "Cochin",
         "DEL → AMD → BOM → COK",
         "19:45",
         "19:15 19 May",
         "23h 30m",
         "2 stops",
         "No info",
         "10651"
        ],
        [
         "455",
         "Air India",
         "18/05/2019",
         "Delhi",
         "Cochin",
         "DEL → GOI → BOM → COK",
         "22:00",
         "19:15 19 May",
         "21h 15m",
         "2 stops",
         "No info",
         "10441"
        ],
        [
         "8216",
         "Air India",
         "18/05/2019",
         "Delhi",
         "Cochin",
         "DEL → GOI → BOM → COK",
         "22:00",
         "19:15 19 May",
         "21h 15m",
         "2 stops",
         "No info",
         "10441"
        ],
        [
         "665",
         "Air India",
         "18/05/2019",
         "Kolkata",
         "Banglore",
         "CCU → BOM → GOI → BLR",
         "16:50",
         "05:35 19 May",
         "12h 45m",
         "2 stops",
         "No info",
         "11642"
        ],
        [
         "8781",
         "Air India",
         "18/05/2019",
         "Kolkata",
         "Banglore",
         "CCU → BOM → GOI → BLR",
         "16:50",
         "05:35 19 May",
         "12h 45m",
         "2 stops",
         "No info",
         "11642"
        ],
        [
         "3815",
         "Air India",
         "21/03/2019",
         "Delhi",
         "Cochin",
         "DEL → RPR → NAG → BOM → COK",
         "05:15",
         "19:15 22 Mar",
         "38h",
         "3 stops",
         "No info",
         "9128"
        ],
        [
         "9484",
         "Air India",
         "21/03/2019",
         "Delhi",
         "Cochin",
         "DEL → RPR → NAG → BOM → COK",
         "05:15",
         "19:15 22 Mar",
         "38h",
         "3 stops",
         "No info",
         "9128"
        ],
        [
         "1042",
         "Air India",
         "21/03/2019",
         "Delhi",
         "Cochin",
         "DEL → HYD → BOM → COK",
         "17:15",
         "19:15 22 Mar",
         "26h",
         "2 stops",
         "No info",
         "8245"
        ],
        [
         "7907",
         "Air India",
         "21/03/2019",
         "Delhi",
         "Cochin",
         "DEL → HYD → BOM → COK",
         "17:15",
         "19:15 22 Mar",
         "26h",
         "2 stops",
         "No info",
         "8245"
        ],
        [
         "672",
         "Air India",
         "21/03/2019",
         "Delhi",
         "Cochin",
         "DEL → AMD → BOM → COK",
         "19:45",
         "19:15 22 Mar",
         "23h 30m",
         "2 stops",
         "No info",
         "8236"
        ],
        [
         "5363",
         "Air India",
         "21/03/2019",
         "Delhi",
         "Cochin",
         "DEL → AMD → BOM → COK",
         "19:45",
         "19:15 22 Mar",
         "23h 30m",
         "2 stops",
         "No info",
         "8236"
        ],
        [
         "406",
         "Air India",
         "21/05/2019",
         "Delhi",
         "Cochin",
         "DEL → BHO → BOM → COK",
         "05:55",
         "07:40 22 May",
         "25h 45m",
         "2 stops",
         "No info",
         "11911"
        ],
        [
         "9238",
         "Air India",
         "21/05/2019",
         "Delhi",
         "Cochin",
         "DEL → BHO → BOM → COK",
         "05:55",
         "07:40 22 May",
         "25h 45m",
         "2 stops",
         "No info",
         "11911"
        ],
        [
         "910",
         "Air India",
         "21/05/2019",
         "Delhi",
         "Cochin",
         "DEL → HYD → BOM → COK",
         "17:15",
         "19:15 22 May",
         "26h",
         "2 stops",
         "No info",
         "11972"
        ],
        [
         "10146",
         "Air India",
         "21/05/2019",
         "Delhi",
         "Cochin",
         "DEL → HYD → BOM → COK",
         "17:15",
         "19:15 22 May",
         "26h",
         "2 stops",
         "No info",
         "11972"
        ],
        [
         "1025",
         "Air India",
         "21/05/2019",
         "Delhi",
         "Cochin",
         "DEL → GOI → BOM → COK",
         "22:00",
         "19:15 22 May",
         "21h 15m",
         "2 stops",
         "No info",
         "10231"
        ]
       ],
       "shape": {
        "columns": 11,
        "rows": 415
       }
      },
      "text/html": [
       "<div>\n",
       "<style scoped>\n",
       "    .dataframe tbody tr th:only-of-type {\n",
       "        vertical-align: middle;\n",
       "    }\n",
       "\n",
       "    .dataframe tbody tr th {\n",
       "        vertical-align: top;\n",
       "    }\n",
       "\n",
       "    .dataframe thead th {\n",
       "        text-align: right;\n",
       "    }\n",
       "</style>\n",
       "<table border=\"1\" class=\"dataframe\">\n",
       "  <thead>\n",
       "    <tr style=\"text-align: right;\">\n",
       "      <th></th>\n",
       "      <th>Airline</th>\n",
       "      <th>Date_of_Journey</th>\n",
       "      <th>Source</th>\n",
       "      <th>Destination</th>\n",
       "      <th>Route</th>\n",
       "      <th>Dep_Time</th>\n",
       "      <th>Arrival_Time</th>\n",
       "      <th>Duration</th>\n",
       "      <th>Total_Stops</th>\n",
       "      <th>Additional_Info</th>\n",
       "      <th>Price</th>\n",
       "    </tr>\n",
       "  </thead>\n",
       "  <tbody>\n",
       "    <tr>\n",
       "      <th>6321</th>\n",
       "      <td>Air India</td>\n",
       "      <td>01/03/2019</td>\n",
       "      <td>Banglore</td>\n",
       "      <td>New Delhi</td>\n",
       "      <td>BLR → BOM → AMD → DEL</td>\n",
       "      <td>08:50</td>\n",
       "      <td>23:55 02 Mar</td>\n",
       "      <td>39h 5m</td>\n",
       "      <td>2 stops</td>\n",
       "      <td>No info</td>\n",
       "      <td>17135</td>\n",
       "    </tr>\n",
       "    <tr>\n",
       "      <th>9848</th>\n",
       "      <td>Air India</td>\n",
       "      <td>01/03/2019</td>\n",
       "      <td>Banglore</td>\n",
       "      <td>New Delhi</td>\n",
       "      <td>BLR → BOM → AMD → DEL</td>\n",
       "      <td>08:50</td>\n",
       "      <td>23:55 02 Mar</td>\n",
       "      <td>39h 5m</td>\n",
       "      <td>2 stops</td>\n",
       "      <td>No info</td>\n",
       "      <td>17135</td>\n",
       "    </tr>\n",
       "    <tr>\n",
       "      <th>572</th>\n",
       "      <td>Air India</td>\n",
       "      <td>03/03/2019</td>\n",
       "      <td>Banglore</td>\n",
       "      <td>New Delhi</td>\n",
       "      <td>BLR → DEL</td>\n",
       "      <td>21:10</td>\n",
       "      <td>23:55</td>\n",
       "      <td>2h 45m</td>\n",
       "      <td>non-stop</td>\n",
       "      <td>No info</td>\n",
       "      <td>7591</td>\n",
       "    </tr>\n",
       "    <tr>\n",
       "      <th>8168</th>\n",
       "      <td>Air India</td>\n",
       "      <td>03/03/2019</td>\n",
       "      <td>Banglore</td>\n",
       "      <td>New Delhi</td>\n",
       "      <td>BLR → DEL</td>\n",
       "      <td>21:10</td>\n",
       "      <td>23:55</td>\n",
       "      <td>2h 45m</td>\n",
       "      <td>non-stop</td>\n",
       "      <td>No info</td>\n",
       "      <td>7591</td>\n",
       "    </tr>\n",
       "    <tr>\n",
       "      <th>1495</th>\n",
       "      <td>Air India</td>\n",
       "      <td>1/04/2019</td>\n",
       "      <td>Kolkata</td>\n",
       "      <td>Banglore</td>\n",
       "      <td>CCU → DEL → COK → BLR</td>\n",
       "      <td>10:00</td>\n",
       "      <td>01:20 02 Apr</td>\n",
       "      <td>15h 20m</td>\n",
       "      <td>2 stops</td>\n",
       "      <td>No info</td>\n",
       "      <td>10408</td>\n",
       "    </tr>\n",
       "    <tr>\n",
       "      <th>...</th>\n",
       "      <td>...</td>\n",
       "      <td>...</td>\n",
       "      <td>...</td>\n",
       "      <td>...</td>\n",
       "      <td>...</td>\n",
       "      <td>...</td>\n",
       "      <td>...</td>\n",
       "      <td>...</td>\n",
       "      <td>...</td>\n",
       "      <td>...</td>\n",
       "      <td>...</td>\n",
       "    </tr>\n",
       "    <tr>\n",
       "      <th>2870</th>\n",
       "      <td>SpiceJet</td>\n",
       "      <td>24/03/2019</td>\n",
       "      <td>Banglore</td>\n",
       "      <td>New Delhi</td>\n",
       "      <td>BLR → DEL</td>\n",
       "      <td>05:45</td>\n",
       "      <td>08:35</td>\n",
       "      <td>2h 50m</td>\n",
       "      <td>non-stop</td>\n",
       "      <td>No check-in baggage included</td>\n",
       "      <td>4273</td>\n",
       "    </tr>\n",
       "    <tr>\n",
       "      <th>1535</th>\n",
       "      <td>SpiceJet</td>\n",
       "      <td>24/03/2019</td>\n",
       "      <td>Banglore</td>\n",
       "      <td>New Delhi</td>\n",
       "      <td>BLR → DEL</td>\n",
       "      <td>20:30</td>\n",
       "      <td>23:20</td>\n",
       "      <td>2h 50m</td>\n",
       "      <td>non-stop</td>\n",
       "      <td>No check-in baggage included</td>\n",
       "      <td>3873</td>\n",
       "    </tr>\n",
       "    <tr>\n",
       "      <th>3711</th>\n",
       "      <td>SpiceJet</td>\n",
       "      <td>24/03/2019</td>\n",
       "      <td>Banglore</td>\n",
       "      <td>New Delhi</td>\n",
       "      <td>BLR → DEL</td>\n",
       "      <td>20:30</td>\n",
       "      <td>23:20</td>\n",
       "      <td>2h 50m</td>\n",
       "      <td>non-stop</td>\n",
       "      <td>No check-in baggage included</td>\n",
       "      <td>3873</td>\n",
       "    </tr>\n",
       "    <tr>\n",
       "      <th>2634</th>\n",
       "      <td>Vistara</td>\n",
       "      <td>24/03/2019</td>\n",
       "      <td>Banglore</td>\n",
       "      <td>New Delhi</td>\n",
       "      <td>BLR → DEL</td>\n",
       "      <td>11:30</td>\n",
       "      <td>14:10</td>\n",
       "      <td>2h 40m</td>\n",
       "      <td>non-stop</td>\n",
       "      <td>No info</td>\n",
       "      <td>5403</td>\n",
       "    </tr>\n",
       "    <tr>\n",
       "      <th>5470</th>\n",
       "      <td>Vistara</td>\n",
       "      <td>24/03/2019</td>\n",
       "      <td>Banglore</td>\n",
       "      <td>New Delhi</td>\n",
       "      <td>BLR → DEL</td>\n",
       "      <td>11:30</td>\n",
       "      <td>14:10</td>\n",
       "      <td>2h 40m</td>\n",
       "      <td>non-stop</td>\n",
       "      <td>No info</td>\n",
       "      <td>5403</td>\n",
       "    </tr>\n",
       "  </tbody>\n",
       "</table>\n",
       "<p>415 rows × 11 columns</p>\n",
       "</div>"
      ],
      "text/plain": [
       "        Airline Date_of_Journey    Source Destination                  Route  \\\n",
       "6321  Air India      01/03/2019  Banglore   New Delhi  BLR → BOM → AMD → DEL   \n",
       "9848  Air India      01/03/2019  Banglore   New Delhi  BLR → BOM → AMD → DEL   \n",
       "572   Air India      03/03/2019  Banglore   New Delhi              BLR → DEL   \n",
       "8168  Air India      03/03/2019  Banglore   New Delhi              BLR → DEL   \n",
       "1495  Air India       1/04/2019   Kolkata    Banglore  CCU → DEL → COK → BLR   \n",
       "...         ...             ...       ...         ...                    ...   \n",
       "2870   SpiceJet      24/03/2019  Banglore   New Delhi              BLR → DEL   \n",
       "1535   SpiceJet      24/03/2019  Banglore   New Delhi              BLR → DEL   \n",
       "3711   SpiceJet      24/03/2019  Banglore   New Delhi              BLR → DEL   \n",
       "2634    Vistara      24/03/2019  Banglore   New Delhi              BLR → DEL   \n",
       "5470    Vistara      24/03/2019  Banglore   New Delhi              BLR → DEL   \n",
       "\n",
       "     Dep_Time  Arrival_Time Duration Total_Stops  \\\n",
       "6321    08:50  23:55 02 Mar   39h 5m     2 stops   \n",
       "9848    08:50  23:55 02 Mar   39h 5m     2 stops   \n",
       "572     21:10         23:55   2h 45m    non-stop   \n",
       "8168    21:10         23:55   2h 45m    non-stop   \n",
       "1495    10:00  01:20 02 Apr  15h 20m     2 stops   \n",
       "...       ...           ...      ...         ...   \n",
       "2870    05:45         08:35   2h 50m    non-stop   \n",
       "1535    20:30         23:20   2h 50m    non-stop   \n",
       "3711    20:30         23:20   2h 50m    non-stop   \n",
       "2634    11:30         14:10   2h 40m    non-stop   \n",
       "5470    11:30         14:10   2h 40m    non-stop   \n",
       "\n",
       "                   Additional_Info  Price  \n",
       "6321                       No info  17135  \n",
       "9848                       No info  17135  \n",
       "572                        No info   7591  \n",
       "8168                       No info   7591  \n",
       "1495                       No info  10408  \n",
       "...                            ...    ...  \n",
       "2870  No check-in baggage included   4273  \n",
       "1535  No check-in baggage included   3873  \n",
       "3711  No check-in baggage included   3873  \n",
       "2634                       No info   5403  \n",
       "5470                       No info   5403  \n",
       "\n",
       "[415 rows x 11 columns]"
      ]
     },
     "execution_count": 21,
     "metadata": {},
     "output_type": "execute_result"
    }
   ],
   "source": [
    "( \n",
    "  flights\n",
    "  .loc[flights.duplicated (keep=False)]\n",
    "  .sort_values(['Airline', 'Date_of_Journey', 'Source', 'Destination','Dep_Time','Arrival_Time'])\n",
    ")"
   ]
  },
  {
   "cell_type": "markdown",
   "id": "bc00175c",
   "metadata": {},
   "source": [
    "#### 3.3 Observations"
   ]
  },
  {
   "cell_type": "markdown",
   "id": "b72b1e73",
   "metadata": {},
   "source": [
    "- The type of `Date_of_Journey`, `Dep_Time` and `Arrival_Time` should be changed to DateTime\n",
    "- The type of `Duration` and `Total_Stops` is mixed, it should be of numeric type.\n",
    "- There are 220 duplicate rows which need to be removed"
   ]
  },
  {
   "cell_type": "markdown",
   "id": "ad64d658",
   "metadata": {},
   "source": [
    "### 4. Detailed Analysis"
   ]
  },
  {
   "cell_type": "code",
   "execution_count": 16,
   "id": "05acb704",
   "metadata": {},
   "outputs": [
    {
     "data": {
      "text/plain": [
       "'abhin b'"
      ]
     },
     "execution_count": 16,
     "metadata": {},
     "output_type": "execute_result"
    }
   ],
   "source": [
    "\"abhin b   \".strip()"
   ]
  },
  {
   "cell_type": "code",
   "execution_count": 17,
   "id": "4f8d7577",
   "metadata": {},
   "outputs": [
    {
     "data": {
      "text/plain": [
       "array(['IndiGo', 'Air India', 'Jet Airways', 'SpiceJet',\n",
       "       'Multiple carriers', 'GoAir', 'Vistara', 'Air Asia',\n",
       "       'Vistara Premium economy', 'Jet Airways Business',\n",
       "       'Multiple carriers Premium economy', 'Trujet'], dtype=object)"
      ]
     },
     "execution_count": 17,
     "metadata": {},
     "output_type": "execute_result"
    }
   ],
   "source": [
    "flights.Airline.unique()"
   ]
  },
  {
   "cell_type": "code",
   "execution_count": 22,
   "id": "c07e4ace",
   "metadata": {},
   "outputs": [
    {
     "data": {
      "text/plain": [
       "array(['IndiGo', 'Air India', 'Jet Airways', 'SpiceJet',\n",
       "       'Multiple carriers', 'GoAir', 'Vistara', 'Air Asia',\n",
       "       'Vistara Premium economy', 'Jet Airways Business',\n",
       "       'Multiple carriers Premium economy', 'Trujet'], dtype=object)"
      ]
     },
     "execution_count": 22,
     "metadata": {},
     "output_type": "execute_result"
    }
   ],
   "source": [
    "flights.Airline.unique()"
   ]
  },
  {
   "cell_type": "code",
   "execution_count": 18,
   "id": "960ff571",
   "metadata": {},
   "outputs": [
    {
     "data": {
      "text/plain": [
       "array(['Indigo', 'Air India', 'Jet Airways', 'Spicejet',\n",
       "       'Multiple Carriers', 'Goair', 'Vistara', 'Air Asia', 'Trujet'],\n",
       "      dtype=object)"
      ]
     },
     "execution_count": 18,
     "metadata": {},
     "output_type": "execute_result"
    }
   ],
   "source": [
    "(\n",
    "  flights\n",
    "  .Airline\n",
    "  .str.replace(\" Premium economy\", \"\")\n",
    "  .str.replace(\" Business\", \"\")\n",
    "  .str.title() #making capital of first letter of each word\n",
    "  .unique()\n",
    ")"
   ]
  },
  {
   "cell_type": "markdown",
   "id": "e44895d6",
   "metadata": {},
   "source": [
    "- some of  the entries have inconsistent/ incaccurate values like \n",
    "'Jet Airways' nd 'Jet Airways Business' is same"
   ]
  },
  {
   "cell_type": "markdown",
   "id": "43fd0874",
   "metadata": {},
   "source": [
    "Date_of_Journey"
   ]
  },
  {
   "cell_type": "code",
   "execution_count": 19,
   "id": "3761cdb8",
   "metadata": {},
   "outputs": [
    {
     "data": {
      "text/plain": [
       "0        24/03/2019\n",
       "1         1/05/2019\n",
       "2         9/06/2019\n",
       "3        12/05/2019\n",
       "4        01/03/2019\n",
       "            ...    \n",
       "10678     9/04/2019\n",
       "10679    27/04/2019\n",
       "10680    27/04/2019\n",
       "10681    01/03/2019\n",
       "10682     9/05/2019\n",
       "Name: Date_of_Journey, Length: 10683, dtype: object"
      ]
     },
     "execution_count": 19,
     "metadata": {},
     "output_type": "execute_result"
    }
   ],
   "source": [
    "flights.Date_of_Journey"
   ]
  },
  {
   "cell_type": "markdown",
   "id": "bd661854",
   "metadata": {},
   "source": [
    "Source"
   ]
  },
  {
   "cell_type": "code",
   "execution_count": 24,
   "id": "2ddb1f55",
   "metadata": {},
   "outputs": [
    {
     "data": {
      "text/plain": [
       "array(['Banglore', 'Kolkata', 'Delhi', 'Chennai', 'Mumbai'], dtype=object)"
      ]
     },
     "execution_count": 24,
     "metadata": {},
     "output_type": "execute_result"
    }
   ],
   "source": [
    "flights.Source.unique()"
   ]
  },
  {
   "cell_type": "markdown",
   "id": "e05541b0",
   "metadata": {},
   "source": [
    "Destination"
   ]
  },
  {
   "cell_type": "code",
   "execution_count": 25,
   "id": "db2c1fad",
   "metadata": {},
   "outputs": [
    {
     "data": {
      "text/plain": [
       "array(['New Delhi', 'Banglore', 'Cochin', 'Kolkata', 'Delhi', 'Hyderabad'],\n",
       "      dtype=object)"
      ]
     },
     "execution_count": 25,
     "metadata": {},
     "output_type": "execute_result"
    }
   ],
   "source": [
    "flights.Destination.unique()"
   ]
  },
  {
   "cell_type": "markdown",
   "id": "dcd1bd7b",
   "metadata": {},
   "source": [
    "- 'New Delhi'  and  'Delhi' are the same city, so \n",
    "   we will replace 'New Delhi' with 'Delhi'"
   ]
  },
  {
   "cell_type": "code",
   "execution_count": 26,
   "id": "453bac16",
   "metadata": {},
   "outputs": [
    {
     "data": {
      "text/plain": [
       "array(['Delhi', 'Banglore', 'Cochin', 'Kolkata', 'Hyderabad'],\n",
       "      dtype=object)"
      ]
     },
     "execution_count": 26,
     "metadata": {},
     "output_type": "execute_result"
    }
   ],
   "source": [
    "(\n",
    "  flights\n",
    "  .Destination\n",
    "  .str.replace(\"New Delhi\", \"Delhi\")\n",
    "  .unique()\n",
    ")"
   ]
  },
  {
   "cell_type": "code",
   "execution_count": 27,
   "id": "5d978eb3",
   "metadata": {},
   "outputs": [
    {
     "data": {
      "application/vnd.microsoft.datawrangler.viewer.v0+json": {
       "columns": [
        {
         "name": "index",
         "rawType": "int64",
         "type": "integer"
        },
        {
         "name": "Route",
         "rawType": "object",
         "type": "unknown"
        }
       ],
       "ref": "d5bdf473-01a1-4601-9890-1fe47ca81b71",
       "rows": [
        [
         "0",
         "BLR → DEL"
        ],
        [
         "1",
         "CCU → IXR → BBI → BLR"
        ],
        [
         "2",
         "DEL → LKO → BOM → COK"
        ],
        [
         "3",
         "CCU → NAG → BLR"
        ],
        [
         "4",
         "BLR → NAG → DEL"
        ],
        [
         "5",
         "CCU → BLR"
        ],
        [
         "6",
         "BLR → BOM → DEL"
        ],
        [
         "7",
         "BLR → BOM → DEL"
        ],
        [
         "8",
         "BLR → BOM → DEL"
        ],
        [
         "9",
         "DEL → BOM → COK"
        ],
        [
         "10",
         "DEL → BLR → COK"
        ],
        [
         "11",
         "CCU → BLR"
        ],
        [
         "12",
         "MAA → CCU"
        ],
        [
         "13",
         "CCU → BOM → BLR"
        ],
        [
         "14",
         "CCU → BLR"
        ],
        [
         "15",
         "DEL → AMD → BOM → COK"
        ],
        [
         "16",
         "DEL → PNQ → COK"
        ],
        [
         "17",
         "DEL → BOM → COK"
        ],
        [
         "18",
         "DEL → CCU → BOM → COK"
        ],
        [
         "19",
         "DEL → BOM → COK"
        ],
        [
         "20",
         "DEL → BOM → COK"
        ],
        [
         "21",
         "BLR → COK → DEL"
        ],
        [
         "22",
         "BLR → DEL"
        ],
        [
         "23",
         "BLR → DEL"
        ],
        [
         "24",
         "CCU → BOM → BLR"
        ],
        [
         "25",
         "DEL → IDR → BOM → COK"
        ],
        [
         "26",
         "DEL → LKO → COK"
        ],
        [
         "27",
         "DEL → BOM → COK"
        ],
        [
         "28",
         "BLR → DEL"
        ],
        [
         "29",
         "MAA → CCU"
        ],
        [
         "30",
         "MAA → CCU"
        ],
        [
         "31",
         "CCU → GAU → DEL → BLR"
        ],
        [
         "32",
         "BLR → DEL"
        ],
        [
         "33",
         "DEL → NAG → BOM → COK"
        ],
        [
         "34",
         "DEL → BOM → COK"
        ],
        [
         "35",
         "DEL → BOM → COK"
        ],
        [
         "36",
         "CCU → MAA → BLR"
        ],
        [
         "37",
         "CCU → BLR"
        ],
        [
         "38",
         "BLR → BOM → DEL"
        ],
        [
         "39",
         "DEL → BOM → COK"
        ],
        [
         "40",
         "DEL → HYD → COK"
        ],
        [
         "41",
         "BLR → BOM → DEL"
        ],
        [
         "42",
         "DEL → BOM → COK"
        ],
        [
         "43",
         "BLR → DEL"
        ],
        [
         "44",
         "DEL → BOM → COK"
        ],
        [
         "45",
         "BLR → DEL"
        ],
        [
         "46",
         "BLR → DEL"
        ],
        [
         "47",
         "MAA → CCU"
        ],
        [
         "48",
         "CCU → HYD → BLR"
        ],
        [
         "49",
         "DEL → AMD → BOM → COK"
        ]
       ],
       "shape": {
        "columns": 1,
        "rows": 10683
       }
      },
      "text/plain": [
       "0                    BLR → DEL\n",
       "1        CCU → IXR → BBI → BLR\n",
       "2        DEL → LKO → BOM → COK\n",
       "3              CCU → NAG → BLR\n",
       "4              BLR → NAG → DEL\n",
       "                 ...          \n",
       "10678                CCU → BLR\n",
       "10679                CCU → BLR\n",
       "10680                BLR → DEL\n",
       "10681                BLR → DEL\n",
       "10682    DEL → GOI → BOM → COK\n",
       "Name: Route, Length: 10683, dtype: object"
      ]
     },
     "execution_count": 27,
     "metadata": {},
     "output_type": "execute_result"
    }
   ],
   "source": [
    "flights.Route"
   ]
  },
  {
   "cell_type": "code",
   "execution_count": 28,
   "id": "b9a7ac8d",
   "metadata": {},
   "outputs": [
    {
     "data": {
      "application/vnd.microsoft.datawrangler.viewer.v0+json": {
       "columns": [
        {
         "name": "index",
         "rawType": "int64",
         "type": "integer"
        },
        {
         "name": "Dep_Time",
         "rawType": "object",
         "type": "string"
        }
       ],
       "ref": "28124ea2-1e27-493d-afbe-40d498830168",
       "rows": [
        [
         "0",
         "22:20"
        ],
        [
         "1",
         "05:50"
        ],
        [
         "2",
         "09:25"
        ],
        [
         "3",
         "18:05"
        ],
        [
         "4",
         "16:50"
        ],
        [
         "5",
         "09:00"
        ],
        [
         "6",
         "18:55"
        ],
        [
         "7",
         "08:00"
        ],
        [
         "8",
         "08:55"
        ],
        [
         "9",
         "11:25"
        ],
        [
         "10",
         "09:45"
        ],
        [
         "11",
         "20:20"
        ],
        [
         "12",
         "11:40"
        ],
        [
         "13",
         "21:10"
        ],
        [
         "14",
         "17:15"
        ],
        [
         "15",
         "16:40"
        ],
        [
         "16",
         "08:45"
        ],
        [
         "17",
         "14:00"
        ],
        [
         "18",
         "20:15"
        ],
        [
         "19",
         "16:00"
        ],
        [
         "20",
         "14:10"
        ],
        [
         "21",
         "22:00"
        ],
        [
         "22",
         "04:00"
        ],
        [
         "23",
         "18:55"
        ],
        [
         "24",
         "18:55"
        ],
        [
         "25",
         "21:25"
        ],
        [
         "26",
         "21:50"
        ],
        [
         "27",
         "07:00"
        ],
        [
         "28",
         "09:45"
        ],
        [
         "29",
         "07:05"
        ],
        [
         "30",
         "07:05"
        ],
        [
         "31",
         "09:50"
        ],
        [
         "32",
         "04:00"
        ],
        [
         "33",
         "14:35"
        ],
        [
         "34",
         "07:05"
        ],
        [
         "35",
         "10:35"
        ],
        [
         "36",
         "15:05"
        ],
        [
         "37",
         "14:15"
        ],
        [
         "38",
         "07:00"
        ],
        [
         "39",
         "07:05"
        ],
        [
         "40",
         "07:05"
        ],
        [
         "41",
         "06:45"
        ],
        [
         "42",
         "20:55"
        ],
        [
         "43",
         "11:10"
        ],
        [
         "44",
         "09:00"
        ],
        [
         "45",
         "05:45"
        ],
        [
         "46",
         "04:00"
        ],
        [
         "47",
         "11:40"
        ],
        [
         "48",
         "19:00"
        ],
        [
         "49",
         "23:05"
        ]
       ],
       "shape": {
        "columns": 1,
        "rows": 10683
       }
      },
      "text/plain": [
       "0        22:20\n",
       "1        05:50\n",
       "2        09:25\n",
       "3        18:05\n",
       "4        16:50\n",
       "         ...  \n",
       "10678    19:55\n",
       "10679    20:45\n",
       "10680    08:20\n",
       "10681    11:30\n",
       "10682    10:55\n",
       "Name: Dep_Time, Length: 10683, dtype: object"
      ]
     },
     "execution_count": 28,
     "metadata": {},
     "output_type": "execute_result"
    }
   ],
   "source": [
    "flights.Dep_Time"
   ]
  },
  {
   "cell_type": "code",
   "execution_count": 30,
   "id": "d450fbff",
   "metadata": {},
   "outputs": [
    {
     "data": {
      "application/vnd.microsoft.datawrangler.viewer.v0+json": {
       "columns": [
        {
         "name": "index",
         "rawType": "int64",
         "type": "integer"
        },
        {
         "name": "Dep_Time",
         "rawType": "object",
         "type": "unknown"
        }
       ],
       "ref": "be858248-77f6-4087-8024-fd4741a46a6f",
       "rows": [],
       "shape": {
        "columns": 1,
        "rows": 0
       }
      },
      "text/plain": [
       "Series([], Name: Dep_Time, dtype: object)"
      ]
     },
     "execution_count": 30,
     "metadata": {},
     "output_type": "execute_result"
    }
   ],
   "source": [
    "(\n",
    "  flights\n",
    "  .Dep_Time\n",
    "  .loc[lambda ser: ser.str.contains(\"[^0-9:]\")]\n",
    ")"
   ]
  },
  {
   "cell_type": "code",
   "execution_count": 31,
   "id": "c09d4618",
   "metadata": {},
   "outputs": [
    {
     "name": "stderr",
     "output_type": "stream",
     "text": [
      "C:\\Users\\sav91\\AppData\\Local\\Temp\\ipykernel_20140\\2682404337.py:1: UserWarning: Could not infer format, so each element will be parsed individually, falling back to `dateutil`. To ensure parsing is consistent and as-expected, please specify a format.\n",
      "  pd.to_datetime(flights.Dep_Time)\n"
     ]
    },
    {
     "data": {
      "application/vnd.microsoft.datawrangler.viewer.v0+json": {
       "columns": [
        {
         "name": "index",
         "rawType": "int64",
         "type": "integer"
        },
        {
         "name": "Dep_Time",
         "rawType": "datetime64[ns]",
         "type": "datetime"
        }
       ],
       "ref": "96402cef-d8b1-41e5-91d8-7547d503a667",
       "rows": [
        [
         "0",
         "2025-09-14 22:20:00"
        ],
        [
         "1",
         "2025-09-14 05:50:00"
        ],
        [
         "2",
         "2025-09-14 09:25:00"
        ],
        [
         "3",
         "2025-09-14 18:05:00"
        ],
        [
         "4",
         "2025-09-14 16:50:00"
        ],
        [
         "5",
         "2025-09-14 09:00:00"
        ],
        [
         "6",
         "2025-09-14 18:55:00"
        ],
        [
         "7",
         "2025-09-14 08:00:00"
        ],
        [
         "8",
         "2025-09-14 08:55:00"
        ],
        [
         "9",
         "2025-09-14 11:25:00"
        ],
        [
         "10",
         "2025-09-14 09:45:00"
        ],
        [
         "11",
         "2025-09-14 20:20:00"
        ],
        [
         "12",
         "2025-09-14 11:40:00"
        ],
        [
         "13",
         "2025-09-14 21:10:00"
        ],
        [
         "14",
         "2025-09-14 17:15:00"
        ],
        [
         "15",
         "2025-09-14 16:40:00"
        ],
        [
         "16",
         "2025-09-14 08:45:00"
        ],
        [
         "17",
         "2025-09-14 14:00:00"
        ],
        [
         "18",
         "2025-09-14 20:15:00"
        ],
        [
         "19",
         "2025-09-14 16:00:00"
        ],
        [
         "20",
         "2025-09-14 14:10:00"
        ],
        [
         "21",
         "2025-09-14 22:00:00"
        ],
        [
         "22",
         "2025-09-14 04:00:00"
        ],
        [
         "23",
         "2025-09-14 18:55:00"
        ],
        [
         "24",
         "2025-09-14 18:55:00"
        ],
        [
         "25",
         "2025-09-14 21:25:00"
        ],
        [
         "26",
         "2025-09-14 21:50:00"
        ],
        [
         "27",
         "2025-09-14 07:00:00"
        ],
        [
         "28",
         "2025-09-14 09:45:00"
        ],
        [
         "29",
         "2025-09-14 07:05:00"
        ],
        [
         "30",
         "2025-09-14 07:05:00"
        ],
        [
         "31",
         "2025-09-14 09:50:00"
        ],
        [
         "32",
         "2025-09-14 04:00:00"
        ],
        [
         "33",
         "2025-09-14 14:35:00"
        ],
        [
         "34",
         "2025-09-14 07:05:00"
        ],
        [
         "35",
         "2025-09-14 10:35:00"
        ],
        [
         "36",
         "2025-09-14 15:05:00"
        ],
        [
         "37",
         "2025-09-14 14:15:00"
        ],
        [
         "38",
         "2025-09-14 07:00:00"
        ],
        [
         "39",
         "2025-09-14 07:05:00"
        ],
        [
         "40",
         "2025-09-14 07:05:00"
        ],
        [
         "41",
         "2025-09-14 06:45:00"
        ],
        [
         "42",
         "2025-09-14 20:55:00"
        ],
        [
         "43",
         "2025-09-14 11:10:00"
        ],
        [
         "44",
         "2025-09-14 09:00:00"
        ],
        [
         "45",
         "2025-09-14 05:45:00"
        ],
        [
         "46",
         "2025-09-14 04:00:00"
        ],
        [
         "47",
         "2025-09-14 11:40:00"
        ],
        [
         "48",
         "2025-09-14 19:00:00"
        ],
        [
         "49",
         "2025-09-14 23:05:00"
        ]
       ],
       "shape": {
        "columns": 1,
        "rows": 10683
       }
      },
      "text/plain": [
       "0       2025-09-14 22:20:00\n",
       "1       2025-09-14 05:50:00\n",
       "2       2025-09-14 09:25:00\n",
       "3       2025-09-14 18:05:00\n",
       "4       2025-09-14 16:50:00\n",
       "                ...        \n",
       "10678   2025-09-14 19:55:00\n",
       "10679   2025-09-14 20:45:00\n",
       "10680   2025-09-14 08:20:00\n",
       "10681   2025-09-14 11:30:00\n",
       "10682   2025-09-14 10:55:00\n",
       "Name: Dep_Time, Length: 10683, dtype: datetime64[ns]"
      ]
     },
     "execution_count": 31,
     "metadata": {},
     "output_type": "execute_result"
    }
   ],
   "source": [
    "pd.to_datetime(flights.Dep_Time)"
   ]
  },
  {
   "cell_type": "code",
   "execution_count": 32,
   "id": "ee3e3187",
   "metadata": {},
   "outputs": [
    {
     "name": "stderr",
     "output_type": "stream",
     "text": [
      "C:\\Users\\sav91\\AppData\\Local\\Temp\\ipykernel_20140\\1056054517.py:1: UserWarning: Could not infer format, so each element will be parsed individually, falling back to `dateutil`. To ensure parsing is consistent and as-expected, please specify a format.\n",
      "  pd.to_datetime(flights.Dep_Time).dt.time\n"
     ]
    },
    {
     "data": {
      "application/vnd.microsoft.datawrangler.viewer.v0+json": {
       "columns": [
        {
         "name": "index",
         "rawType": "int64",
         "type": "integer"
        },
        {
         "name": "Dep_Time",
         "rawType": "object",
         "type": "unknown"
        }
       ],
       "ref": "0bfec9bf-be82-43dc-8bcd-77ecb4e00554",
       "rows": [
        [
         "0",
         "22:20:00"
        ],
        [
         "1",
         "05:50:00"
        ],
        [
         "2",
         "09:25:00"
        ],
        [
         "3",
         "18:05:00"
        ],
        [
         "4",
         "16:50:00"
        ],
        [
         "5",
         "09:00:00"
        ],
        [
         "6",
         "18:55:00"
        ],
        [
         "7",
         "08:00:00"
        ],
        [
         "8",
         "08:55:00"
        ],
        [
         "9",
         "11:25:00"
        ],
        [
         "10",
         "09:45:00"
        ],
        [
         "11",
         "20:20:00"
        ],
        [
         "12",
         "11:40:00"
        ],
        [
         "13",
         "21:10:00"
        ],
        [
         "14",
         "17:15:00"
        ],
        [
         "15",
         "16:40:00"
        ],
        [
         "16",
         "08:45:00"
        ],
        [
         "17",
         "14:00:00"
        ],
        [
         "18",
         "20:15:00"
        ],
        [
         "19",
         "16:00:00"
        ],
        [
         "20",
         "14:10:00"
        ],
        [
         "21",
         "22:00:00"
        ],
        [
         "22",
         "04:00:00"
        ],
        [
         "23",
         "18:55:00"
        ],
        [
         "24",
         "18:55:00"
        ],
        [
         "25",
         "21:25:00"
        ],
        [
         "26",
         "21:50:00"
        ],
        [
         "27",
         "07:00:00"
        ],
        [
         "28",
         "09:45:00"
        ],
        [
         "29",
         "07:05:00"
        ],
        [
         "30",
         "07:05:00"
        ],
        [
         "31",
         "09:50:00"
        ],
        [
         "32",
         "04:00:00"
        ],
        [
         "33",
         "14:35:00"
        ],
        [
         "34",
         "07:05:00"
        ],
        [
         "35",
         "10:35:00"
        ],
        [
         "36",
         "15:05:00"
        ],
        [
         "37",
         "14:15:00"
        ],
        [
         "38",
         "07:00:00"
        ],
        [
         "39",
         "07:05:00"
        ],
        [
         "40",
         "07:05:00"
        ],
        [
         "41",
         "06:45:00"
        ],
        [
         "42",
         "20:55:00"
        ],
        [
         "43",
         "11:10:00"
        ],
        [
         "44",
         "09:00:00"
        ],
        [
         "45",
         "05:45:00"
        ],
        [
         "46",
         "04:00:00"
        ],
        [
         "47",
         "11:40:00"
        ],
        [
         "48",
         "19:00:00"
        ],
        [
         "49",
         "23:05:00"
        ]
       ],
       "shape": {
        "columns": 1,
        "rows": 10683
       }
      },
      "text/plain": [
       "0        22:20:00\n",
       "1        05:50:00\n",
       "2        09:25:00\n",
       "3        18:05:00\n",
       "4        16:50:00\n",
       "           ...   \n",
       "10678    19:55:00\n",
       "10679    20:45:00\n",
       "10680    08:20:00\n",
       "10681    11:30:00\n",
       "10682    10:55:00\n",
       "Name: Dep_Time, Length: 10683, dtype: object"
      ]
     },
     "execution_count": 32,
     "metadata": {},
     "output_type": "execute_result"
    }
   ],
   "source": [
    "pd.to_datetime(flights.Dep_Time).dt.time"
   ]
  },
  {
   "cell_type": "markdown",
   "id": "ef776d1f",
   "metadata": {},
   "source": [
    "Arrival_Time"
   ]
  },
  {
   "cell_type": "code",
   "execution_count": 33,
   "id": "f30c1232",
   "metadata": {},
   "outputs": [
    {
     "data": {
      "application/vnd.microsoft.datawrangler.viewer.v0+json": {
       "columns": [
        {
         "name": "index",
         "rawType": "int64",
         "type": "integer"
        },
        {
         "name": "Arrival_Time",
         "rawType": "object",
         "type": "string"
        }
       ],
       "ref": "53cc906b-508a-46db-949e-d203c21fdccf",
       "rows": [
        [
         "0",
         "01:10 22 Mar"
        ],
        [
         "1",
         "13:15"
        ],
        [
         "2",
         "04:25 10 Jun"
        ],
        [
         "3",
         "23:30"
        ],
        [
         "4",
         "21:35"
        ],
        [
         "5",
         "11:25"
        ],
        [
         "6",
         "10:25 13 Mar"
        ],
        [
         "7",
         "05:05 02 Mar"
        ],
        [
         "8",
         "10:25 13 Mar"
        ],
        [
         "9",
         "19:15"
        ],
        [
         "10",
         "23:00"
        ],
        [
         "11",
         "22:55"
        ],
        [
         "12",
         "13:55"
        ],
        [
         "13",
         "09:20 10 May"
        ],
        [
         "14",
         "19:50"
        ],
        [
         "15",
         "19:15 04 Mar"
        ],
        [
         "16",
         "13:15"
        ],
        [
         "17",
         "12:35 13 Jun"
        ],
        [
         "18",
         "19:15 13 Jun"
        ],
        [
         "19",
         "12:35 28 May"
        ],
        [
         "20",
         "19:20"
        ],
        [
         "21",
         "13:20 19 Mar"
        ],
        [
         "22",
         "06:50"
        ],
        [
         "23",
         "21:50"
        ],
        [
         "24",
         "08:15 07 May"
        ],
        [
         "25",
         "12:35 10 Jun"
        ],
        [
         "26",
         "03:35 02 Jun"
        ],
        [
         "27",
         "12:55"
        ],
        [
         "28",
         "12:35"
        ],
        [
         "29",
         "09:20"
        ],
        [
         "30",
         "09:20"
        ],
        [
         "31",
         "23:15"
        ],
        [
         "32",
         "06:50"
        ],
        [
         "33",
         "12:35 16 Jun"
        ],
        [
         "34",
         "12:35"
        ],
        [
         "35",
         "21:00"
        ],
        [
         "36",
         "20:20"
        ],
        [
         "37",
         "16:45"
        ],
        [
         "38",
         "13:15"
        ],
        [
         "39",
         "19:00"
        ],
        [
         "40",
         "18:10"
        ],
        [
         "41",
         "15:15"
        ],
        [
         "42",
         "19:00 19 May"
        ],
        [
         "43",
         "13:55"
        ],
        [
         "44",
         "21:00"
        ],
        [
         "45",
         "08:35"
        ],
        [
         "46",
         "06:50"
        ],
        [
         "47",
         "13:55"
        ],
        [
         "48",
         "11:05 16 May"
        ],
        [
         "49",
         "19:00 28 Jun"
        ]
       ],
       "shape": {
        "columns": 1,
        "rows": 10683
       }
      },
      "text/plain": [
       "0        01:10 22 Mar\n",
       "1               13:15\n",
       "2        04:25 10 Jun\n",
       "3               23:30\n",
       "4               21:35\n",
       "             ...     \n",
       "10678           22:25\n",
       "10679           23:20\n",
       "10680           11:20\n",
       "10681           14:10\n",
       "10682           19:15\n",
       "Name: Arrival_Time, Length: 10683, dtype: object"
      ]
     },
     "execution_count": 33,
     "metadata": {},
     "output_type": "execute_result"
    }
   ],
   "source": [
    "flights.Arrival_Time\n"
   ]
  },
  {
   "cell_type": "code",
   "execution_count": 34,
   "id": "8f26940b",
   "metadata": {},
   "outputs": [
    {
     "data": {
      "application/vnd.microsoft.datawrangler.viewer.v0+json": {
       "columns": [
        {
         "name": "index",
         "rawType": "int64",
         "type": "integer"
        },
        {
         "name": "Arrival_Time",
         "rawType": "object",
         "type": "unknown"
        }
       ],
       "ref": "f02d21ce-8a00-433a-ab5d-bb8459900be9",
       "rows": [
        [
         "0",
         "['01:10', '22', 'Mar']"
        ],
        [
         "2",
         "['04:25', '10', 'Jun']"
        ],
        [
         "6",
         "['10:25', '13', 'Mar']"
        ],
        [
         "7",
         "['05:05', '02', 'Mar']"
        ],
        [
         "8",
         "['10:25', '13', 'Mar']"
        ],
        [
         "13",
         "['09:20', '10', 'May']"
        ],
        [
         "15",
         "['19:15', '04', 'Mar']"
        ],
        [
         "17",
         "['12:35', '13', 'Jun']"
        ],
        [
         "18",
         "['19:15', '13', 'Jun']"
        ],
        [
         "19",
         "['12:35', '28', 'May']"
        ],
        [
         "21",
         "['13:20', '19', 'Mar']"
        ],
        [
         "24",
         "['08:15', '07', 'May']"
        ],
        [
         "25",
         "['12:35', '10', 'Jun']"
        ],
        [
         "26",
         "['03:35', '02', 'Jun']"
        ],
        [
         "33",
         "['12:35', '16', 'Jun']"
        ],
        [
         "42",
         "['19:00', '19', 'May']"
        ],
        [
         "48",
         "['11:05', '16', 'May']"
        ],
        [
         "49",
         "['19:00', '28', 'Jun']"
        ],
        [
         "51",
         "['10:55', '02', 'May']"
        ],
        [
         "52",
         "['01:10', '28', 'Mar']"
        ],
        [
         "53",
         "['00:15', '19', 'Jun']"
        ],
        [
         "54",
         "['02:45', '04', 'Apr']"
        ],
        [
         "55",
         "['12:00', '25', 'Mar']"
        ],
        [
         "58",
         "['01:30', '07', 'May']"
        ],
        [
         "59",
         "['16:45', '07', 'Mar']"
        ],
        [
         "61",
         "['09:25', '04', 'Apr']"
        ],
        [
         "63",
         "['01:30', '16', 'May']"
        ],
        [
         "71",
         "['08:15', '13', 'Mar']"
        ],
        [
         "73",
         "['12:35', '25', 'Jun']"
        ],
        [
         "78",
         "['12:35', '16', 'Jun']"
        ],
        [
         "80",
         "['12:00', '10', 'Jun']"
        ],
        [
         "82",
         "['04:40', '07', 'May']"
        ],
        [
         "85",
         "['11:25', '07', 'Mar']"
        ],
        [
         "87",
         "['04:25', '07', 'Jun']"
        ],
        [
         "89",
         "['14:25', '25', 'May']"
        ],
        [
         "92",
         "['10:25', '13', 'Mar']"
        ],
        [
         "99",
         "['12:35', '13', 'Jun']"
        ],
        [
         "101",
         "['08:15', '10', 'Jun']"
        ],
        [
         "102",
         "['04:25', '25', 'Jun']"
        ],
        [
         "103",
         "['14:35', '13', 'May']"
        ],
        [
         "105",
         "['04:25', '19', 'May']"
        ],
        [
         "108",
         "['19:15', '10', 'May']"
        ],
        [
         "109",
         "['19:00', '25', 'May']"
        ],
        [
         "110",
         "['05:05', '16', 'Mar']"
        ],
        [
         "112",
         "['09:05', '13', 'May']"
        ],
        [
         "113",
         "['04:25', '07', 'Mar']"
        ],
        [
         "116",
         "['09:25', '07', 'Mar']"
        ],
        [
         "117",
         "['01:35', '04', 'Mar']"
        ],
        [
         "122",
         "['10:05', '07', 'May']"
        ],
        [
         "123",
         "['19:15', '02', 'Mar']"
        ]
       ],
       "shape": {
        "columns": 1,
        "rows": 4335
       }
      },
      "text/plain": [
       "0        [01:10, 22, Mar]\n",
       "2        [04:25, 10, Jun]\n",
       "6        [10:25, 13, Mar]\n",
       "7        [05:05, 02, Mar]\n",
       "8        [10:25, 13, Mar]\n",
       "               ...       \n",
       "10666    [19:00, 13, Jun]\n",
       "10667    [20:20, 13, Mar]\n",
       "10672    [19:00, 28, Jun]\n",
       "10673    [04:25, 28, May]\n",
       "10674    [21:20, 13, Mar]\n",
       "Name: Arrival_Time, Length: 4335, dtype: object"
      ]
     },
     "execution_count": 34,
     "metadata": {},
     "output_type": "execute_result"
    }
   ],
   "source": [
    "(\n",
    "  flights\n",
    "  .Arrival_Time\n",
    "  .loc[lambda ser: ser.str.contains(\"[^0-9:]\")]\n",
    "  .str.split(\" \")\n",
    ")"
   ]
  },
  {
   "cell_type": "code",
   "execution_count": 35,
   "id": "426d15ed",
   "metadata": {},
   "outputs": [
    {
     "data": {
      "application/vnd.microsoft.datawrangler.viewer.v0+json": {
       "columns": [
        {
         "name": "index",
         "rawType": "int64",
         "type": "integer"
        },
        {
         "name": "Arrival_Time",
         "rawType": "object",
         "type": "unknown"
        }
       ],
       "ref": "58600ff6-f091-4b89-83f6-e02494e16890",
       "rows": [
        [
         "0",
         "['01:10', '22 Mar']"
        ],
        [
         "2",
         "['04:25', '10 Jun']"
        ],
        [
         "6",
         "['10:25', '13 Mar']"
        ],
        [
         "7",
         "['05:05', '02 Mar']"
        ],
        [
         "8",
         "['10:25', '13 Mar']"
        ],
        [
         "13",
         "['09:20', '10 May']"
        ],
        [
         "15",
         "['19:15', '04 Mar']"
        ],
        [
         "17",
         "['12:35', '13 Jun']"
        ],
        [
         "18",
         "['19:15', '13 Jun']"
        ],
        [
         "19",
         "['12:35', '28 May']"
        ],
        [
         "21",
         "['13:20', '19 Mar']"
        ],
        [
         "24",
         "['08:15', '07 May']"
        ],
        [
         "25",
         "['12:35', '10 Jun']"
        ],
        [
         "26",
         "['03:35', '02 Jun']"
        ],
        [
         "33",
         "['12:35', '16 Jun']"
        ],
        [
         "42",
         "['19:00', '19 May']"
        ],
        [
         "48",
         "['11:05', '16 May']"
        ],
        [
         "49",
         "['19:00', '28 Jun']"
        ],
        [
         "51",
         "['10:55', '02 May']"
        ],
        [
         "52",
         "['01:10', '28 Mar']"
        ],
        [
         "53",
         "['00:15', '19 Jun']"
        ],
        [
         "54",
         "['02:45', '04 Apr']"
        ],
        [
         "55",
         "['12:00', '25 Mar']"
        ],
        [
         "58",
         "['01:30', '07 May']"
        ],
        [
         "59",
         "['16:45', '07 Mar']"
        ],
        [
         "61",
         "['09:25', '04 Apr']"
        ],
        [
         "63",
         "['01:30', '16 May']"
        ],
        [
         "71",
         "['08:15', '13 Mar']"
        ],
        [
         "73",
         "['12:35', '25 Jun']"
        ],
        [
         "78",
         "['12:35', '16 Jun']"
        ],
        [
         "80",
         "['12:00', '10 Jun']"
        ],
        [
         "82",
         "['04:40', '07 May']"
        ],
        [
         "85",
         "['11:25', '07 Mar']"
        ],
        [
         "87",
         "['04:25', '07 Jun']"
        ],
        [
         "89",
         "['14:25', '25 May']"
        ],
        [
         "92",
         "['10:25', '13 Mar']"
        ],
        [
         "99",
         "['12:35', '13 Jun']"
        ],
        [
         "101",
         "['08:15', '10 Jun']"
        ],
        [
         "102",
         "['04:25', '25 Jun']"
        ],
        [
         "103",
         "['14:35', '13 May']"
        ],
        [
         "105",
         "['04:25', '19 May']"
        ],
        [
         "108",
         "['19:15', '10 May']"
        ],
        [
         "109",
         "['19:00', '25 May']"
        ],
        [
         "110",
         "['05:05', '16 Mar']"
        ],
        [
         "112",
         "['09:05', '13 May']"
        ],
        [
         "113",
         "['04:25', '07 Mar']"
        ],
        [
         "116",
         "['09:25', '07 Mar']"
        ],
        [
         "117",
         "['01:35', '04 Mar']"
        ],
        [
         "122",
         "['10:05', '07 May']"
        ],
        [
         "123",
         "['19:15', '02 Mar']"
        ]
       ],
       "shape": {
        "columns": 1,
        "rows": 4335
       }
      },
      "text/plain": [
       "0        [01:10, 22 Mar]\n",
       "2        [04:25, 10 Jun]\n",
       "6        [10:25, 13 Mar]\n",
       "7        [05:05, 02 Mar]\n",
       "8        [10:25, 13 Mar]\n",
       "              ...       \n",
       "10666    [19:00, 13 Jun]\n",
       "10667    [20:20, 13 Mar]\n",
       "10672    [19:00, 28 Jun]\n",
       "10673    [04:25, 28 May]\n",
       "10674    [21:20, 13 Mar]\n",
       "Name: Arrival_Time, Length: 4335, dtype: object"
      ]
     },
     "execution_count": 35,
     "metadata": {},
     "output_type": "execute_result"
    }
   ],
   "source": [
    "(\n",
    "  flights\n",
    "  .Arrival_Time\n",
    "  .loc[lambda ser: ser.str.contains(\"[^0-9:]\")]\n",
    "  .str.split(\" \", n=1)\n",
    ")"
   ]
  },
  {
   "cell_type": "code",
   "execution_count": 36,
   "id": "a8e1e43a",
   "metadata": {},
   "outputs": [
    {
     "data": {
      "text/plain": [
       "array(['22 Mar', '10 Jun', '13 Mar', '02 Mar', '10 May', '04 Mar',\n",
       "       '13 Jun', '28 May', '19 Mar', '07 May', '02 Jun', '16 Jun',\n",
       "       '19 May', '16 May', '28 Jun', '02 May', '28 Mar', '19 Jun',\n",
       "       '04 Apr', '25 Mar', '07 Mar', '25 Jun', '07 Jun', '25 May',\n",
       "       '13 May', '16 Mar', '22 May', '10 Apr', '04 Jun', '20 May',\n",
       "       '28 Apr', '25 Apr', '10 Mar', '19 Apr', '13 Apr', '02 Apr',\n",
       "       '23 Mar', '22 Apr', '11 May', '07 Apr', '03 May', '08 Mar',\n",
       "       '03 Mar', '05 Mar', '22 Jun', '04 May', '26 May', '16 Apr',\n",
       "       '26 Jun', '29 May', '29 Jun', '29 Mar', '23 May', '17 Jun'],\n",
       "      dtype=object)"
      ]
     },
     "execution_count": 36,
     "metadata": {},
     "output_type": "execute_result"
    }
   ],
   "source": [
    "( \n",
    "  flights\n",
    "  .Arrival_Time\n",
    "  .loc[lambda ser: ser.str.contains(\"[^0-9:]\")]\n",
    "  .str.split(\" \", n=1)\n",
    "  .str.get(1)\n",
    "  .unique() \n",
    ")"
   ]
  },
  {
   "cell_type": "markdown",
   "id": "69db8569",
   "metadata": {},
   "source": [
    "so there r values other than time which just looks like \n",
    "above"
   ]
  },
  {
   "cell_type": "markdown",
   "id": "da120745",
   "metadata": {},
   "source": [
    "Duration"
   ]
  },
  {
   "cell_type": "code",
   "execution_count": 37,
   "id": "c2c187fc",
   "metadata": {},
   "outputs": [
    {
     "data": {
      "application/vnd.microsoft.datawrangler.viewer.v0+json": {
       "columns": [
        {
         "name": "index",
         "rawType": "int64",
         "type": "integer"
        },
        {
         "name": "Duration",
         "rawType": "object",
         "type": "string"
        }
       ],
       "ref": "b787e8fd-cd2b-4cb9-9b9b-1d89ad1fff4a",
       "rows": [
        [
         "0",
         "2h 50m"
        ],
        [
         "1",
         "7h 25m"
        ],
        [
         "2",
         "19h"
        ],
        [
         "3",
         "5h 25m"
        ],
        [
         "4",
         "4h 45m"
        ],
        [
         "5",
         "2h 25m"
        ],
        [
         "6",
         "15h 30m"
        ],
        [
         "7",
         "21h 5m"
        ],
        [
         "8",
         "25h 30m"
        ],
        [
         "9",
         "7h 50m"
        ],
        [
         "10",
         "13h 15m"
        ],
        [
         "11",
         "2h 35m"
        ],
        [
         "12",
         "2h 15m"
        ],
        [
         "13",
         "12h 10m"
        ],
        [
         "14",
         "2h 35m"
        ],
        [
         "15",
         "26h 35m"
        ],
        [
         "16",
         "4h 30m"
        ],
        [
         "17",
         "22h 35m"
        ],
        [
         "18",
         "23h"
        ],
        [
         "19",
         "20h 35m"
        ],
        [
         "20",
         "5h 10m"
        ],
        [
         "21",
         "15h 20m"
        ],
        [
         "22",
         "2h 50m"
        ],
        [
         "23",
         "2h 55m"
        ],
        [
         "24",
         "13h 20m"
        ],
        [
         "25",
         "15h 10m"
        ],
        [
         "26",
         "5h 45m"
        ],
        [
         "27",
         "5h 55m"
        ],
        [
         "28",
         "2h 50m"
        ],
        [
         "29",
         "2h 15m"
        ],
        [
         "30",
         "2h 15m"
        ],
        [
         "31",
         "13h 25m"
        ],
        [
         "32",
         "2h 50m"
        ],
        [
         "33",
         "22h"
        ],
        [
         "34",
         "5h 30m"
        ],
        [
         "35",
         "10h 25m"
        ],
        [
         "36",
         "5h 15m"
        ],
        [
         "37",
         "2h 30m"
        ],
        [
         "38",
         "6h 15m"
        ],
        [
         "39",
         "11h 55m"
        ],
        [
         "40",
         "11h 5m"
        ],
        [
         "41",
         "8h 30m"
        ],
        [
         "42",
         "22h 5m"
        ],
        [
         "43",
         "2h 45m"
        ],
        [
         "44",
         "12h"
        ],
        [
         "45",
         "2h 50m"
        ],
        [
         "46",
         "2h 50m"
        ],
        [
         "47",
         "2h 15m"
        ],
        [
         "48",
         "16h 5m"
        ],
        [
         "49",
         "19h 55m"
        ]
       ],
       "shape": {
        "columns": 1,
        "rows": 10683
       }
      },
      "text/plain": [
       "0        2h 50m\n",
       "1        7h 25m\n",
       "2           19h\n",
       "3        5h 25m\n",
       "4        4h 45m\n",
       "          ...  \n",
       "10678    2h 30m\n",
       "10679    2h 35m\n",
       "10680        3h\n",
       "10681    2h 40m\n",
       "10682    8h 20m\n",
       "Name: Duration, Length: 10683, dtype: object"
      ]
     },
     "execution_count": 37,
     "metadata": {},
     "output_type": "execute_result"
    }
   ],
   "source": [
    "flights.Duration"
   ]
  },
  {
   "cell_type": "code",
   "execution_count": 38,
   "id": "82467cc4",
   "metadata": {},
   "outputs": [
    {
     "data": {
      "application/vnd.microsoft.datawrangler.viewer.v0+json": {
       "columns": [
        {
         "name": "index",
         "rawType": "int64",
         "type": "integer"
        },
        {
         "name": "Duration",
         "rawType": "object",
         "type": "string"
        }
       ],
       "ref": "5b1bebaf-947d-4deb-ad44-7bbf364abd38",
       "rows": [
        [
         "2",
         "19h"
        ],
        [
         "18",
         "23h"
        ],
        [
         "33",
         "22h"
        ],
        [
         "44",
         "12h"
        ],
        [
         "53",
         "3h"
        ],
        [
         "74",
         "5h"
        ],
        [
         "84",
         "10h"
        ],
        [
         "89",
         "18h"
        ],
        [
         "97",
         "3h"
        ],
        [
         "103",
         "24h"
        ],
        [
         "110",
         "15h"
        ],
        [
         "127",
         "16h"
        ],
        [
         "130",
         "8h"
        ],
        [
         "134",
         "14h"
        ],
        [
         "140",
         "8h"
        ],
        [
         "178",
         "20h"
        ],
        [
         "179",
         "13h"
        ],
        [
         "183",
         "16h"
        ],
        [
         "219",
         "10h"
        ],
        [
         "242",
         "12h"
        ],
        [
         "257",
         "3h"
        ],
        [
         "258",
         "11h"
        ],
        [
         "269",
         "15h"
        ],
        [
         "271",
         "9h"
        ],
        [
         "285",
         "8h"
        ],
        [
         "286",
         "3h"
        ],
        [
         "295",
         "3h"
        ],
        [
         "311",
         "27h"
        ],
        [
         "331",
         "8h"
        ],
        [
         "340",
         "3h"
        ],
        [
         "346",
         "9h"
        ],
        [
         "349",
         "3h"
        ],
        [
         "357",
         "11h"
        ],
        [
         "358",
         "3h"
        ],
        [
         "382",
         "3h"
        ],
        [
         "394",
         "5h"
        ],
        [
         "401",
         "27h"
        ],
        [
         "410",
         "26h"
        ],
        [
         "425",
         "10h"
        ],
        [
         "431",
         "11h"
        ],
        [
         "436",
         "9h"
        ],
        [
         "443",
         "4h"
        ],
        [
         "456",
         "5h"
        ],
        [
         "461",
         "3h"
        ],
        [
         "478",
         "3h"
        ],
        [
         "480",
         "16h"
        ],
        [
         "481",
         "7h"
        ],
        [
         "483",
         "9h"
        ],
        [
         "497",
         "9h"
        ],
        [
         "498",
         "24h"
        ]
       ],
       "shape": {
        "columns": 1,
        "rows": 1031
       }
      },
      "text/plain": [
       "2        19h\n",
       "18       23h\n",
       "33       22h\n",
       "44       12h\n",
       "53        3h\n",
       "        ... \n",
       "10591    23h\n",
       "10638    14h\n",
       "10639    38h\n",
       "10673    15h\n",
       "10680     3h\n",
       "Name: Duration, Length: 1031, dtype: object"
      ]
     },
     "execution_count": 38,
     "metadata": {},
     "output_type": "execute_result"
    }
   ],
   "source": [
    "(\n",
    "  flights\n",
    "  .Duration\n",
    "  .loc[lambda ser: ~ser.str.contains(\"m\")]\n",
    ")"
   ]
  },
  {
   "cell_type": "code",
   "execution_count": 39,
   "id": "7be42db2",
   "metadata": {},
   "outputs": [
    {
     "data": {
      "application/vnd.microsoft.datawrangler.viewer.v0+json": {
       "columns": [
        {
         "name": "index",
         "rawType": "int64",
         "type": "integer"
        },
        {
         "name": "Airline",
         "rawType": "object",
         "type": "string"
        },
        {
         "name": "Date_of_Journey",
         "rawType": "object",
         "type": "string"
        },
        {
         "name": "Source",
         "rawType": "object",
         "type": "string"
        },
        {
         "name": "Destination",
         "rawType": "object",
         "type": "string"
        },
        {
         "name": "Route",
         "rawType": "object",
         "type": "string"
        },
        {
         "name": "Dep_Time",
         "rawType": "object",
         "type": "string"
        },
        {
         "name": "Arrival_Time",
         "rawType": "object",
         "type": "string"
        },
        {
         "name": "Duration",
         "rawType": "object",
         "type": "string"
        },
        {
         "name": "Total_Stops",
         "rawType": "object",
         "type": "string"
        },
        {
         "name": "Additional_Info",
         "rawType": "object",
         "type": "string"
        },
        {
         "name": "Price",
         "rawType": "int64",
         "type": "integer"
        }
       ],
       "ref": "8e860cce-ab63-4cca-aac9-0dc5c1157a01",
       "rows": [
        [
         "6474",
         "Air India",
         "6/03/2019",
         "Mumbai",
         "Hyderabad",
         "BOM → GOI → PNQ → HYD",
         "16:50",
         "16:55",
         "5m",
         "2 stops",
         "No info",
         "17327"
        ]
       ],
       "shape": {
        "columns": 11,
        "rows": 1
       }
      },
      "text/html": [
       "<div>\n",
       "<style scoped>\n",
       "    .dataframe tbody tr th:only-of-type {\n",
       "        vertical-align: middle;\n",
       "    }\n",
       "\n",
       "    .dataframe tbody tr th {\n",
       "        vertical-align: top;\n",
       "    }\n",
       "\n",
       "    .dataframe thead th {\n",
       "        text-align: right;\n",
       "    }\n",
       "</style>\n",
       "<table border=\"1\" class=\"dataframe\">\n",
       "  <thead>\n",
       "    <tr style=\"text-align: right;\">\n",
       "      <th></th>\n",
       "      <th>Airline</th>\n",
       "      <th>Date_of_Journey</th>\n",
       "      <th>Source</th>\n",
       "      <th>Destination</th>\n",
       "      <th>Route</th>\n",
       "      <th>Dep_Time</th>\n",
       "      <th>Arrival_Time</th>\n",
       "      <th>Duration</th>\n",
       "      <th>Total_Stops</th>\n",
       "      <th>Additional_Info</th>\n",
       "      <th>Price</th>\n",
       "    </tr>\n",
       "  </thead>\n",
       "  <tbody>\n",
       "    <tr>\n",
       "      <th>6474</th>\n",
       "      <td>Air India</td>\n",
       "      <td>6/03/2019</td>\n",
       "      <td>Mumbai</td>\n",
       "      <td>Hyderabad</td>\n",
       "      <td>BOM → GOI → PNQ → HYD</td>\n",
       "      <td>16:50</td>\n",
       "      <td>16:55</td>\n",
       "      <td>5m</td>\n",
       "      <td>2 stops</td>\n",
       "      <td>No info</td>\n",
       "      <td>17327</td>\n",
       "    </tr>\n",
       "  </tbody>\n",
       "</table>\n",
       "</div>"
      ],
      "text/plain": [
       "        Airline Date_of_Journey  Source Destination                  Route  \\\n",
       "6474  Air India       6/03/2019  Mumbai   Hyderabad  BOM → GOI → PNQ → HYD   \n",
       "\n",
       "     Dep_Time Arrival_Time Duration Total_Stops Additional_Info  Price  \n",
       "6474    16:50        16:55       5m     2 stops         No info  17327  "
      ]
     },
     "execution_count": 39,
     "metadata": {},
     "output_type": "execute_result"
    }
   ],
   "source": [
    "(\n",
    "  flights\n",
    "  .Duration\n",
    "  .loc[lambda ser: ~ser.str.contains(\"h\")]\n",
    ")\n",
    "flights.iloc[[6474]]"
   ]
  },
  {
   "cell_type": "markdown",
   "id": "40e2a67b",
   "metadata": {},
   "source": [
    "- the observation of index 6474 is not a valid observation\n",
    "as it takes more than 5 mins to reach form mumbai to hyd"
   ]
  },
  {
   "cell_type": "code",
   "execution_count": 40,
   "id": "044da14a",
   "metadata": {},
   "outputs": [
    {
     "data": {
      "application/vnd.microsoft.datawrangler.viewer.v0+json": {
       "columns": [
        {
         "name": "index",
         "rawType": "int64",
         "type": "integer"
        },
        {
         "name": "0",
         "rawType": "int64",
         "type": "integer"
        }
       ],
       "ref": "3af33df0-6df9-4d15-bf41-87dce65913f5",
       "rows": [
        [
         "0",
         "170"
        ],
        [
         "1",
         "445"
        ],
        [
         "2",
         "1140"
        ],
        [
         "3",
         "325"
        ],
        [
         "4",
         "285"
        ],
        [
         "5",
         "145"
        ],
        [
         "6",
         "930"
        ],
        [
         "7",
         "1265"
        ],
        [
         "8",
         "1530"
        ],
        [
         "9",
         "470"
        ],
        [
         "10",
         "795"
        ],
        [
         "11",
         "155"
        ],
        [
         "12",
         "135"
        ],
        [
         "13",
         "730"
        ],
        [
         "14",
         "155"
        ],
        [
         "15",
         "1595"
        ],
        [
         "16",
         "270"
        ],
        [
         "17",
         "1355"
        ],
        [
         "18",
         "1380"
        ],
        [
         "19",
         "1235"
        ],
        [
         "20",
         "310"
        ],
        [
         "21",
         "920"
        ],
        [
         "22",
         "170"
        ],
        [
         "23",
         "175"
        ],
        [
         "24",
         "800"
        ],
        [
         "25",
         "910"
        ],
        [
         "26",
         "345"
        ],
        [
         "27",
         "355"
        ],
        [
         "28",
         "170"
        ],
        [
         "29",
         "135"
        ],
        [
         "30",
         "135"
        ],
        [
         "31",
         "805"
        ],
        [
         "32",
         "170"
        ],
        [
         "33",
         "1320"
        ],
        [
         "34",
         "330"
        ],
        [
         "35",
         "625"
        ],
        [
         "36",
         "315"
        ],
        [
         "37",
         "150"
        ],
        [
         "38",
         "375"
        ],
        [
         "39",
         "715"
        ],
        [
         "40",
         "665"
        ],
        [
         "41",
         "510"
        ],
        [
         "42",
         "1325"
        ],
        [
         "43",
         "165"
        ],
        [
         "44",
         "720"
        ],
        [
         "45",
         "170"
        ],
        [
         "46",
         "170"
        ],
        [
         "47",
         "135"
        ],
        [
         "48",
         "965"
        ],
        [
         "49",
         "1195"
        ]
       ],
       "shape": {
        "columns": 1,
        "rows": 10682
       }
      },
      "text/plain": [
       "0         170\n",
       "1         445\n",
       "2        1140\n",
       "3         325\n",
       "4         285\n",
       "         ... \n",
       "10678     150\n",
       "10679     155\n",
       "10680     180\n",
       "10681     160\n",
       "10682     500\n",
       "Length: 10682, dtype: int64"
      ]
     },
     "execution_count": 40,
     "metadata": {},
     "output_type": "execute_result"
    }
   ],
   "source": [
    "(    \n",
    "  flights\n",
    "  .Duration\n",
    "  .drop(index=6474)\n",
    "  .str.split(\" \", n=1, expand=True)\n",
    "  .set_axis(['hours', 'minute'], axis=1)\n",
    "  .assign(\n",
    "    hours = lambda df_:\n",
    "      df_\n",
    "      .hours\n",
    "      .str.replace(\"h\", \"\")\n",
    "      .astype(int)\n",
    "      .mul(60),  # convert hours to minutes,\n",
    "    minute = lambda df_:\n",
    "       df_\n",
    "       .minute\n",
    "       .str.replace(\"m\", \"\")\n",
    "       .fillna(0)\n",
    "       .astype(int)\n",
    "       \n",
    "  )\n",
    "  .sum(axis=1)\n",
    "  # .isna().sum()\n",
    "  # .dtypes \n",
    ")    "
   ]
  },
  {
   "cell_type": "code",
   "execution_count": 36,
   "id": "79cfa95d",
   "metadata": {},
   "outputs": [
    {
     "data": {
      "text/html": [
       "<div>\n",
       "<style scoped>\n",
       "    .dataframe tbody tr th:only-of-type {\n",
       "        vertical-align: middle;\n",
       "    }\n",
       "\n",
       "    .dataframe tbody tr th {\n",
       "        vertical-align: top;\n",
       "    }\n",
       "\n",
       "    .dataframe thead th {\n",
       "        text-align: right;\n",
       "    }\n",
       "</style>\n",
       "<table border=\"1\" class=\"dataframe\">\n",
       "  <thead>\n",
       "    <tr style=\"text-align: right;\">\n",
       "      <th></th>\n",
       "      <th>duration_minutes</th>\n",
       "      <th>Duration</th>\n",
       "    </tr>\n",
       "  </thead>\n",
       "  <tbody>\n",
       "    <tr>\n",
       "      <th>0</th>\n",
       "      <td>170</td>\n",
       "      <td>2h 50m</td>\n",
       "    </tr>\n",
       "    <tr>\n",
       "      <th>1</th>\n",
       "      <td>445</td>\n",
       "      <td>7h 25m</td>\n",
       "    </tr>\n",
       "    <tr>\n",
       "      <th>2</th>\n",
       "      <td>1140</td>\n",
       "      <td>19h</td>\n",
       "    </tr>\n",
       "    <tr>\n",
       "      <th>3</th>\n",
       "      <td>325</td>\n",
       "      <td>5h 25m</td>\n",
       "    </tr>\n",
       "    <tr>\n",
       "      <th>4</th>\n",
       "      <td>285</td>\n",
       "      <td>4h 45m</td>\n",
       "    </tr>\n",
       "    <tr>\n",
       "      <th>...</th>\n",
       "      <td>...</td>\n",
       "      <td>...</td>\n",
       "    </tr>\n",
       "    <tr>\n",
       "      <th>10678</th>\n",
       "      <td>150</td>\n",
       "      <td>2h 30m</td>\n",
       "    </tr>\n",
       "    <tr>\n",
       "      <th>10679</th>\n",
       "      <td>155</td>\n",
       "      <td>2h 35m</td>\n",
       "    </tr>\n",
       "    <tr>\n",
       "      <th>10680</th>\n",
       "      <td>180</td>\n",
       "      <td>3h</td>\n",
       "    </tr>\n",
       "    <tr>\n",
       "      <th>10681</th>\n",
       "      <td>160</td>\n",
       "      <td>2h 40m</td>\n",
       "    </tr>\n",
       "    <tr>\n",
       "      <th>10682</th>\n",
       "      <td>500</td>\n",
       "      <td>8h 20m</td>\n",
       "    </tr>\n",
       "  </tbody>\n",
       "</table>\n",
       "<p>10682 rows × 2 columns</p>\n",
       "</div>"
      ],
      "text/plain": [
       "       duration_minutes Duration\n",
       "0                   170   2h 50m\n",
       "1                   445   7h 25m\n",
       "2                  1140      19h\n",
       "3                   325   5h 25m\n",
       "4                   285   4h 45m\n",
       "...                 ...      ...\n",
       "10678               150   2h 30m\n",
       "10679               155   2h 35m\n",
       "10680               180       3h\n",
       "10681               160   2h 40m\n",
       "10682               500   8h 20m\n",
       "\n",
       "[10682 rows x 2 columns]"
      ]
     },
     "execution_count": 36,
     "metadata": {},
     "output_type": "execute_result"
    }
   ],
   "source": [
    "(    \n",
    "  flights\n",
    "  .Duration\n",
    "  .drop(index=6474)\n",
    "  .str.split(\" \", n=1, expand=True)\n",
    "  .set_axis(['hours', 'minute'], axis=1)\n",
    "  .assign(\n",
    "    hours = lambda df_:\n",
    "      df_\n",
    "      .hours\n",
    "      .str.replace(\"h\", \"\")\n",
    "      .astype(int)\n",
    "      .mul(60),  # convert hours to minutes,\n",
    "    minute = lambda df_:\n",
    "       df_\n",
    "       .minute\n",
    "       .str.replace(\"m\", \"\")\n",
    "       .fillna(0)\n",
    "       .astype(int)\n",
    "       \n",
    "  )\n",
    "  .sum(axis=1)\n",
    "  # .isna().sum()\n",
    "  # .dtypes \n",
    "  .rename(\"duration_minutes\")\n",
    "  .to_frame()\n",
    "  .join(flights.Duration.drop(index=6474))\n",
    ")    "
   ]
  },
  {
   "cell_type": "markdown",
   "id": "d949e1a1",
   "metadata": {},
   "source": [
    "Total_Stops"
   ]
  },
  {
   "cell_type": "code",
   "execution_count": 41,
   "id": "3bfd6d69",
   "metadata": {},
   "outputs": [
    {
     "data": {
      "application/vnd.microsoft.datawrangler.viewer.v0+json": {
       "columns": [
        {
         "name": "index",
         "rawType": "int64",
         "type": "integer"
        },
        {
         "name": "Total_Stops",
         "rawType": "object",
         "type": "unknown"
        }
       ],
       "ref": "1804845e-1306-4c5d-b9c8-1aed8d6f3d71",
       "rows": [
        [
         "0",
         "non-stop"
        ],
        [
         "1",
         "2 stops"
        ],
        [
         "2",
         "2 stops"
        ],
        [
         "3",
         "1 stop"
        ],
        [
         "4",
         "1 stop"
        ],
        [
         "5",
         "non-stop"
        ],
        [
         "6",
         "1 stop"
        ],
        [
         "7",
         "1 stop"
        ],
        [
         "8",
         "1 stop"
        ],
        [
         "9",
         "1 stop"
        ],
        [
         "10",
         "1 stop"
        ],
        [
         "11",
         "non-stop"
        ],
        [
         "12",
         "non-stop"
        ],
        [
         "13",
         "1 stop"
        ],
        [
         "14",
         "non-stop"
        ],
        [
         "15",
         "2 stops"
        ],
        [
         "16",
         "1 stop"
        ],
        [
         "17",
         "1 stop"
        ],
        [
         "18",
         "2 stops"
        ],
        [
         "19",
         "1 stop"
        ],
        [
         "20",
         "1 stop"
        ],
        [
         "21",
         "1 stop"
        ],
        [
         "22",
         "non-stop"
        ],
        [
         "23",
         "non-stop"
        ],
        [
         "24",
         "1 stop"
        ],
        [
         "25",
         "2 stops"
        ],
        [
         "26",
         "1 stop"
        ],
        [
         "27",
         "1 stop"
        ],
        [
         "28",
         "non-stop"
        ],
        [
         "29",
         "non-stop"
        ],
        [
         "30",
         "non-stop"
        ],
        [
         "31",
         "2 stops"
        ],
        [
         "32",
         "non-stop"
        ],
        [
         "33",
         "2 stops"
        ],
        [
         "34",
         "1 stop"
        ],
        [
         "35",
         "1 stop"
        ],
        [
         "36",
         "1 stop"
        ],
        [
         "37",
         "non-stop"
        ],
        [
         "38",
         "1 stop"
        ],
        [
         "39",
         "1 stop"
        ],
        [
         "40",
         "1 stop"
        ],
        [
         "41",
         "1 stop"
        ],
        [
         "42",
         "1 stop"
        ],
        [
         "43",
         "non-stop"
        ],
        [
         "44",
         "1 stop"
        ],
        [
         "45",
         "non-stop"
        ],
        [
         "46",
         "non-stop"
        ],
        [
         "47",
         "non-stop"
        ],
        [
         "48",
         "1 stop"
        ],
        [
         "49",
         "2 stops"
        ]
       ],
       "shape": {
        "columns": 1,
        "rows": 10683
       }
      },
      "text/plain": [
       "0        non-stop\n",
       "1         2 stops\n",
       "2         2 stops\n",
       "3          1 stop\n",
       "4          1 stop\n",
       "           ...   \n",
       "10678    non-stop\n",
       "10679    non-stop\n",
       "10680    non-stop\n",
       "10681    non-stop\n",
       "10682     2 stops\n",
       "Name: Total_Stops, Length: 10683, dtype: object"
      ]
     },
     "execution_count": 41,
     "metadata": {},
     "output_type": "execute_result"
    }
   ],
   "source": [
    "flights.Total_Stops"
   ]
  },
  {
   "cell_type": "code",
   "execution_count": 42,
   "id": "e7395848",
   "metadata": {},
   "outputs": [
    {
     "data": {
      "text/plain": [
       "array(['non-stop', '2 stops', '1 stop', '3 stops', nan, '4 stops'],\n",
       "      dtype=object)"
      ]
     },
     "execution_count": 42,
     "metadata": {},
     "output_type": "execute_result"
    }
   ],
   "source": [
    "flights.Total_Stops.unique()"
   ]
  },
  {
   "cell_type": "code",
   "execution_count": 43,
   "id": "20aeb44c",
   "metadata": {},
   "outputs": [
    {
     "data": {
      "text/plain": [
       "array(['No info', 'In-flight meal not included',\n",
       "       'No check-in baggage included', '1 Short layover', 'No Info',\n",
       "       '1 Long layover', 'Change airports', 'Business class',\n",
       "       'Red-eye flight', '2 Long layover'], dtype=object)"
      ]
     },
     "execution_count": 43,
     "metadata": {},
     "output_type": "execute_result"
    }
   ],
   "source": [
    "flights.Additional_Info.unique()"
   ]
  },
  {
   "cell_type": "code",
   "execution_count": 44,
   "id": "69b102d0",
   "metadata": {},
   "outputs": [
    {
     "data": {
      "application/vnd.microsoft.datawrangler.viewer.v0+json": {
       "columns": [
        {
         "name": "index",
         "rawType": "int64",
         "type": "integer"
        },
        {
         "name": "Airline",
         "rawType": "object",
         "type": "string"
        },
        {
         "name": "Date_of_Journey",
         "rawType": "object",
         "type": "string"
        },
        {
         "name": "Source",
         "rawType": "object",
         "type": "string"
        },
        {
         "name": "Destination",
         "rawType": "object",
         "type": "string"
        },
        {
         "name": "Route",
         "rawType": "object",
         "type": "unknown"
        },
        {
         "name": "Dep_Time",
         "rawType": "object",
         "type": "string"
        },
        {
         "name": "Arrival_Time",
         "rawType": "object",
         "type": "string"
        },
        {
         "name": "Duration",
         "rawType": "object",
         "type": "string"
        },
        {
         "name": "Total_Stops",
         "rawType": "object",
         "type": "unknown"
        },
        {
         "name": "Additional_Info",
         "rawType": "object",
         "type": "string"
        },
        {
         "name": "Price",
         "rawType": "int64",
         "type": "integer"
        }
       ],
       "ref": "f6b3393c-eb35-4cb0-b5e2-ea42f69ccae9",
       "rows": [
        [
         "9039",
         "Air India",
         "6/05/2019",
         "Delhi",
         "Cochin",
         null,
         "09:45",
         "09:25 07 May",
         "23h 40m",
         null,
         "No info",
         "7480"
        ]
       ],
       "shape": {
        "columns": 11,
        "rows": 1
       }
      },
      "text/html": [
       "<div>\n",
       "<style scoped>\n",
       "    .dataframe tbody tr th:only-of-type {\n",
       "        vertical-align: middle;\n",
       "    }\n",
       "\n",
       "    .dataframe tbody tr th {\n",
       "        vertical-align: top;\n",
       "    }\n",
       "\n",
       "    .dataframe thead th {\n",
       "        text-align: right;\n",
       "    }\n",
       "</style>\n",
       "<table border=\"1\" class=\"dataframe\">\n",
       "  <thead>\n",
       "    <tr style=\"text-align: right;\">\n",
       "      <th></th>\n",
       "      <th>Airline</th>\n",
       "      <th>Date_of_Journey</th>\n",
       "      <th>Source</th>\n",
       "      <th>Destination</th>\n",
       "      <th>Route</th>\n",
       "      <th>Dep_Time</th>\n",
       "      <th>Arrival_Time</th>\n",
       "      <th>Duration</th>\n",
       "      <th>Total_Stops</th>\n",
       "      <th>Additional_Info</th>\n",
       "      <th>Price</th>\n",
       "    </tr>\n",
       "  </thead>\n",
       "  <tbody>\n",
       "    <tr>\n",
       "      <th>9039</th>\n",
       "      <td>Air India</td>\n",
       "      <td>6/05/2019</td>\n",
       "      <td>Delhi</td>\n",
       "      <td>Cochin</td>\n",
       "      <td>NaN</td>\n",
       "      <td>09:45</td>\n",
       "      <td>09:25 07 May</td>\n",
       "      <td>23h 40m</td>\n",
       "      <td>NaN</td>\n",
       "      <td>No info</td>\n",
       "      <td>7480</td>\n",
       "    </tr>\n",
       "  </tbody>\n",
       "</table>\n",
       "</div>"
      ],
      "text/plain": [
       "        Airline Date_of_Journey Source Destination Route Dep_Time  \\\n",
       "9039  Air India       6/05/2019  Delhi      Cochin   NaN    09:45   \n",
       "\n",
       "      Arrival_Time Duration Total_Stops Additional_Info  Price  \n",
       "9039  09:25 07 May  23h 40m         NaN         No info   7480  "
      ]
     },
     "execution_count": 44,
     "metadata": {},
     "output_type": "execute_result"
    }
   ],
   "source": [
    "flights.loc[flights.Total_Stops.isnull()]"
   ]
  },
  {
   "cell_type": "markdown",
   "id": "1cd4bd99",
   "metadata": {},
   "source": [
    "- this row has no info abt total_stops and so there is only 1 row with \n",
    "missing value, so i will drop this row  of index 9039"
   ]
  },
  {
   "cell_type": "code",
   "execution_count": 45,
   "id": "764bee13",
   "metadata": {},
   "outputs": [
    {
     "data": {
      "application/vnd.microsoft.datawrangler.viewer.v0+json": {
       "columns": [
        {
         "name": "index",
         "rawType": "int64",
         "type": "integer"
        },
        {
         "name": "Total_Stops",
         "rawType": "int32",
         "type": "integer"
        }
       ],
       "ref": "9bbeb18c-7978-4e25-8f53-28a9a05342df",
       "rows": [
        [
         "0",
         "0"
        ],
        [
         "1",
         "2"
        ],
        [
         "2",
         "2"
        ],
        [
         "3",
         "1"
        ],
        [
         "4",
         "1"
        ],
        [
         "5",
         "0"
        ],
        [
         "6",
         "1"
        ],
        [
         "7",
         "1"
        ],
        [
         "8",
         "1"
        ],
        [
         "9",
         "1"
        ],
        [
         "10",
         "1"
        ],
        [
         "11",
         "0"
        ],
        [
         "12",
         "0"
        ],
        [
         "13",
         "1"
        ],
        [
         "14",
         "0"
        ],
        [
         "15",
         "2"
        ],
        [
         "16",
         "1"
        ],
        [
         "17",
         "1"
        ],
        [
         "18",
         "2"
        ],
        [
         "19",
         "1"
        ],
        [
         "20",
         "1"
        ],
        [
         "21",
         "1"
        ],
        [
         "22",
         "0"
        ],
        [
         "23",
         "0"
        ],
        [
         "24",
         "1"
        ],
        [
         "25",
         "2"
        ],
        [
         "26",
         "1"
        ],
        [
         "27",
         "1"
        ],
        [
         "28",
         "0"
        ],
        [
         "29",
         "0"
        ],
        [
         "30",
         "0"
        ],
        [
         "31",
         "2"
        ],
        [
         "32",
         "0"
        ],
        [
         "33",
         "2"
        ],
        [
         "34",
         "1"
        ],
        [
         "35",
         "1"
        ],
        [
         "36",
         "1"
        ],
        [
         "37",
         "0"
        ],
        [
         "38",
         "1"
        ],
        [
         "39",
         "1"
        ],
        [
         "40",
         "1"
        ],
        [
         "41",
         "1"
        ],
        [
         "42",
         "1"
        ],
        [
         "43",
         "0"
        ],
        [
         "44",
         "1"
        ],
        [
         "45",
         "0"
        ],
        [
         "46",
         "0"
        ],
        [
         "47",
         "0"
        ],
        [
         "48",
         "1"
        ],
        [
         "49",
         "2"
        ]
       ],
       "shape": {
        "columns": 1,
        "rows": 10682
       }
      },
      "text/plain": [
       "0        0\n",
       "1        2\n",
       "2        2\n",
       "3        1\n",
       "4        1\n",
       "        ..\n",
       "10678    0\n",
       "10679    0\n",
       "10680    0\n",
       "10681    0\n",
       "10682    2\n",
       "Name: Total_Stops, Length: 10682, dtype: int32"
      ]
     },
     "execution_count": 45,
     "metadata": {},
     "output_type": "execute_result"
    }
   ],
   "source": [
    "(\n",
    "  flights\n",
    "  .Total_Stops\n",
    "  .str.replace(\"non-stop\", \"0\")\n",
    "  .str.replace(\"stops?\",\"\", regex=True)  # Remove \"stop\" or \"stops\"\n",
    "  .drop(index=9039)\n",
    "  .astype(int)  # Convert to integer type\n",
    ")"
   ]
  },
  {
   "cell_type": "markdown",
   "id": "a937ec59",
   "metadata": {},
   "source": [
    "Additional_Info"
   ]
  },
  {
   "cell_type": "code",
   "execution_count": 46,
   "id": "4b2455f7",
   "metadata": {},
   "outputs": [
    {
     "data": {
      "text/plain": [
       "array(['No info', 'In-flight meal not included',\n",
       "       'No check-in baggage included', '1 Short layover', 'No Info',\n",
       "       '1 Long layover', 'Change airports', 'Business class',\n",
       "       'Red-eye flight', '2 Long layover'], dtype=object)"
      ]
     },
     "execution_count": 46,
     "metadata": {},
     "output_type": "execute_result"
    }
   ],
   "source": [
    "flights.Additional_Info.unique()"
   ]
  },
  {
   "cell_type": "code",
   "execution_count": 47,
   "id": "997c595a",
   "metadata": {},
   "outputs": [
    {
     "data": {
      "application/vnd.microsoft.datawrangler.viewer.v0+json": {
       "columns": [
        {
         "name": "index",
         "rawType": "int64",
         "type": "integer"
        },
        {
         "name": "Airline",
         "rawType": "object",
         "type": "unknown"
        },
        {
         "name": "Date_of_Journey",
         "rawType": "object",
         "type": "unknown"
        },
        {
         "name": "Source",
         "rawType": "object",
         "type": "unknown"
        },
        {
         "name": "Destination",
         "rawType": "object",
         "type": "unknown"
        },
        {
         "name": "Route",
         "rawType": "object",
         "type": "unknown"
        },
        {
         "name": "Dep_Time",
         "rawType": "object",
         "type": "unknown"
        },
        {
         "name": "Arrival_Time",
         "rawType": "object",
         "type": "unknown"
        },
        {
         "name": "Duration",
         "rawType": "object",
         "type": "unknown"
        },
        {
         "name": "Total_Stops",
         "rawType": "object",
         "type": "unknown"
        },
        {
         "name": "Additional_Info",
         "rawType": "object",
         "type": "unknown"
        },
        {
         "name": "Price",
         "rawType": "int64",
         "type": "integer"
        }
       ],
       "ref": "7c88aa8c-212f-4c9f-8c1f-2d987e5f33ed",
       "rows": [],
       "shape": {
        "columns": 11,
        "rows": 0
       }
      },
      "text/html": [
       "<div>\n",
       "<style scoped>\n",
       "    .dataframe tbody tr th:only-of-type {\n",
       "        vertical-align: middle;\n",
       "    }\n",
       "\n",
       "    .dataframe tbody tr th {\n",
       "        vertical-align: top;\n",
       "    }\n",
       "\n",
       "    .dataframe thead th {\n",
       "        text-align: right;\n",
       "    }\n",
       "</style>\n",
       "<table border=\"1\" class=\"dataframe\">\n",
       "  <thead>\n",
       "    <tr style=\"text-align: right;\">\n",
       "      <th></th>\n",
       "      <th>Airline</th>\n",
       "      <th>Date_of_Journey</th>\n",
       "      <th>Source</th>\n",
       "      <th>Destination</th>\n",
       "      <th>Route</th>\n",
       "      <th>Dep_Time</th>\n",
       "      <th>Arrival_Time</th>\n",
       "      <th>Duration</th>\n",
       "      <th>Total_Stops</th>\n",
       "      <th>Additional_Info</th>\n",
       "      <th>Price</th>\n",
       "    </tr>\n",
       "  </thead>\n",
       "  <tbody>\n",
       "  </tbody>\n",
       "</table>\n",
       "</div>"
      ],
      "text/plain": [
       "Empty DataFrame\n",
       "Columns: [Airline, Date_of_Journey, Source, Destination, Route, Dep_Time, Arrival_Time, Duration, Total_Stops, Additional_Info, Price]\n",
       "Index: []"
      ]
     },
     "execution_count": 47,
     "metadata": {},
     "output_type": "execute_result"
    }
   ],
   "source": [
    "flights.loc[flights.Additional_Info.isnull()]"
   ]
  },
  {
   "cell_type": "code",
   "execution_count": 48,
   "id": "f9b68f61",
   "metadata": {},
   "outputs": [
    {
     "data": {
      "text/plain": [
       "0"
      ]
     },
     "execution_count": 48,
     "metadata": {},
     "output_type": "execute_result"
    }
   ],
   "source": [
    "flights.Additional_Info.isna().sum()"
   ]
  },
  {
   "cell_type": "markdown",
   "id": "6ea5c5a0",
   "metadata": {},
   "source": [
    "### 5. Cleaning Operations"
   ]
  },
  {
   "cell_type": "code",
   "execution_count": 49,
   "id": "982a887a",
   "metadata": {},
   "outputs": [],
   "source": [
    "def convert_to_minutes(ser):\n",
    "  return(    \n",
    "  ser\n",
    "  .str.split(\" \", n=1, expand=True)\n",
    "  .set_axis(['hours', 'minute'], axis=1)\n",
    "  .assign(\n",
    "    hours = lambda df_:\n",
    "      df_\n",
    "      .hours\n",
    "      .str.replace(\"h\", \"\")\n",
    "      .astype(int)\n",
    "      .mul(60),  # convert hours to minutes,\n",
    "    minute = lambda df_:\n",
    "       df_\n",
    "       .minute\n",
    "       .str.replace(\"m\", \"\")\n",
    "       .fillna(0)\n",
    "       .astype(int),\n",
    "    \n",
    "       \n",
    "  )\n",
    "  .sum(axis=1)\n",
    "  # .isna().sum()\n",
    "  # .dtypes \n",
    ")    "
   ]
  },
  {
   "cell_type": "code",
   "execution_count": 50,
   "id": "a0164206",
   "metadata": {},
   "outputs": [],
   "source": [
    "def clean_data(df):\n",
    "  return(\n",
    "    df\n",
    "    .drop(index=[6474, 9039])  # Drop rows with index 6474 and 9039\n",
    "    .drop_duplicates()  \n",
    "    .assign(**{\n",
    "      col: df[col].str.strip()\n",
    "      for col in df.select_dtypes(include='object').columns      \n",
    "    })\n",
    "    .rename(columns=str.lower)  # Convert column names to lowercase\n",
    "    .assign(\n",
    "      airline = lambda df_:(\n",
    "        df_\n",
    "        .airline\n",
    "        .str.replace(\" Premium economy\", \"\")\n",
    "        .str.replace(\" Business\", \"\")\n",
    "        .str.title() #making capital of first letter of each word\n",
    "      ),\n",
    "      destination = lambda df_:(\n",
    "        df_\n",
    "        .destination\n",
    "        .str.replace(\"New Delhi\", \"Delhi\")\n",
    "      ),\n",
    "      date_of_journey = lambda df_: pd.to_datetime(df_.date_of_journey,dayfirst=True),\n",
    "      dep_time = lambda df_: pd.to_datetime(df_.dep_time).dt.time,\n",
    "      arrival_time = lambda df_: pd.to_datetime(df_.arrival_time).dt.time,\n",
    "      duration = lambda df_: df_.duration.pipe(convert_to_minutes),\n",
    "      total_stops= lambda df_:(\n",
    "        df_\n",
    "        .total_stops\n",
    "        .str.replace(\"non-stop\", \"0\")\n",
    "        .str.replace(\"stops?\",\"\", regex=True)  # Remove \"stop\" or \"stops\"\n",
    "        .astype(int)  # Convert to integer type\n",
    "      ),\n",
    "      additional_info = lambda df_: (\n",
    "        df_\n",
    "        .additional_info\n",
    "        .str.replace(\"No Info\", \"No info\")\n",
    "      )         \n",
    "    )           \n",
    "    .drop(columns='route')\n",
    "  )\n"
   ]
  },
  {
   "cell_type": "code",
   "execution_count": 52,
   "id": "dcf6cecf",
   "metadata": {},
   "outputs": [
    {
     "name": "stderr",
     "output_type": "stream",
     "text": [
      "C:\\Users\\sav91\\AppData\\Local\\Temp\\ipykernel_20140\\2404329627.py:25: UserWarning: Could not infer format, so each element will be parsed individually, falling back to `dateutil`. To ensure parsing is consistent and as-expected, please specify a format.\n",
      "  dep_time = lambda df_: pd.to_datetime(df_.dep_time).dt.time,\n",
      "C:\\Users\\sav91\\AppData\\Local\\Temp\\ipykernel_20140\\2404329627.py:26: UserWarning: Could not infer format, so each element will be parsed individually, falling back to `dateutil`. To ensure parsing is consistent and as-expected, please specify a format.\n",
      "  arrival_time = lambda df_: pd.to_datetime(df_.arrival_time).dt.time,\n"
     ]
    }
   ],
   "source": [
    "flights_cleaned = clean_data(flights)"
   ]
  },
  {
   "cell_type": "code",
   "execution_count": 53,
   "id": "645e5349",
   "metadata": {},
   "outputs": [
    {
     "data": {
      "application/vnd.microsoft.datawrangler.viewer.v0+json": {
       "columns": [
        {
         "name": "index",
         "rawType": "int64",
         "type": "integer"
        },
        {
         "name": "airline",
         "rawType": "object",
         "type": "string"
        },
        {
         "name": "date_of_journey",
         "rawType": "datetime64[ns]",
         "type": "datetime"
        },
        {
         "name": "source",
         "rawType": "object",
         "type": "string"
        },
        {
         "name": "destination",
         "rawType": "object",
         "type": "string"
        },
        {
         "name": "dep_time",
         "rawType": "object",
         "type": "unknown"
        },
        {
         "name": "arrival_time",
         "rawType": "object",
         "type": "unknown"
        },
        {
         "name": "duration",
         "rawType": "int64",
         "type": "integer"
        },
        {
         "name": "total_stops",
         "rawType": "int32",
         "type": "integer"
        },
        {
         "name": "additional_info",
         "rawType": "object",
         "type": "string"
        },
        {
         "name": "price",
         "rawType": "int64",
         "type": "integer"
        }
       ],
       "ref": "b8ebdbe8-0b03-48f5-904b-ed66418b1262",
       "rows": [
        [
         "0",
         "Indigo",
         "2019-03-24 00:00:00",
         "Banglore",
         "Delhi",
         "22:20:00",
         "01:10:00",
         "170",
         "0",
         "No info",
         "3897"
        ],
        [
         "1",
         "Air India",
         "2019-05-01 00:00:00",
         "Kolkata",
         "Banglore",
         "05:50:00",
         "13:15:00",
         "445",
         "2",
         "No info",
         "7662"
        ],
        [
         "2",
         "Jet Airways",
         "2019-06-09 00:00:00",
         "Delhi",
         "Cochin",
         "09:25:00",
         "04:25:00",
         "1140",
         "2",
         "No info",
         "13882"
        ],
        [
         "3",
         "Indigo",
         "2019-05-12 00:00:00",
         "Kolkata",
         "Banglore",
         "18:05:00",
         "23:30:00",
         "325",
         "1",
         "No info",
         "6218"
        ],
        [
         "4",
         "Indigo",
         "2019-03-01 00:00:00",
         "Banglore",
         "Delhi",
         "16:50:00",
         "21:35:00",
         "285",
         "1",
         "No info",
         "13302"
        ],
        [
         "5",
         "Spicejet",
         "2019-06-24 00:00:00",
         "Kolkata",
         "Banglore",
         "09:00:00",
         "11:25:00",
         "145",
         "0",
         "No info",
         "3873"
        ],
        [
         "6",
         "Jet Airways",
         "2019-03-12 00:00:00",
         "Banglore",
         "Delhi",
         "18:55:00",
         "10:25:00",
         "930",
         "1",
         "In-flight meal not included",
         "11087"
        ],
        [
         "7",
         "Jet Airways",
         "2019-03-01 00:00:00",
         "Banglore",
         "Delhi",
         "08:00:00",
         "05:05:00",
         "1265",
         "1",
         "No info",
         "22270"
        ],
        [
         "8",
         "Jet Airways",
         "2019-03-12 00:00:00",
         "Banglore",
         "Delhi",
         "08:55:00",
         "10:25:00",
         "1530",
         "1",
         "In-flight meal not included",
         "11087"
        ],
        [
         "9",
         "Multiple Carriers",
         "2019-05-27 00:00:00",
         "Delhi",
         "Cochin",
         "11:25:00",
         "19:15:00",
         "470",
         "1",
         "No info",
         "8625"
        ],
        [
         "10",
         "Air India",
         "2019-06-01 00:00:00",
         "Delhi",
         "Cochin",
         "09:45:00",
         "23:00:00",
         "795",
         "1",
         "No info",
         "8907"
        ],
        [
         "11",
         "Indigo",
         "2019-04-18 00:00:00",
         "Kolkata",
         "Banglore",
         "20:20:00",
         "22:55:00",
         "155",
         "0",
         "No info",
         "4174"
        ],
        [
         "12",
         "Air India",
         "2019-06-24 00:00:00",
         "Chennai",
         "Kolkata",
         "11:40:00",
         "13:55:00",
         "135",
         "0",
         "No info",
         "4667"
        ],
        [
         "13",
         "Jet Airways",
         "2019-05-09 00:00:00",
         "Kolkata",
         "Banglore",
         "21:10:00",
         "09:20:00",
         "730",
         "1",
         "In-flight meal not included",
         "9663"
        ],
        [
         "14",
         "Indigo",
         "2019-04-24 00:00:00",
         "Kolkata",
         "Banglore",
         "17:15:00",
         "19:50:00",
         "155",
         "0",
         "No info",
         "4804"
        ],
        [
         "15",
         "Air India",
         "2019-03-03 00:00:00",
         "Delhi",
         "Cochin",
         "16:40:00",
         "19:15:00",
         "1595",
         "2",
         "No info",
         "14011"
        ],
        [
         "16",
         "Spicejet",
         "2019-04-15 00:00:00",
         "Delhi",
         "Cochin",
         "08:45:00",
         "13:15:00",
         "270",
         "1",
         "No info",
         "5830"
        ],
        [
         "17",
         "Jet Airways",
         "2019-06-12 00:00:00",
         "Delhi",
         "Cochin",
         "14:00:00",
         "12:35:00",
         "1355",
         "1",
         "In-flight meal not included",
         "10262"
        ],
        [
         "18",
         "Air India",
         "2019-06-12 00:00:00",
         "Delhi",
         "Cochin",
         "20:15:00",
         "19:15:00",
         "1380",
         "2",
         "No info",
         "13381"
        ],
        [
         "19",
         "Jet Airways",
         "2019-05-27 00:00:00",
         "Delhi",
         "Cochin",
         "16:00:00",
         "12:35:00",
         "1235",
         "1",
         "In-flight meal not included",
         "12898"
        ],
        [
         "20",
         "Goair",
         "2019-03-06 00:00:00",
         "Delhi",
         "Cochin",
         "14:10:00",
         "19:20:00",
         "310",
         "1",
         "No info",
         "19495"
        ],
        [
         "21",
         "Air India",
         "2019-03-21 00:00:00",
         "Banglore",
         "Delhi",
         "22:00:00",
         "13:20:00",
         "920",
         "1",
         "No info",
         "6955"
        ],
        [
         "22",
         "Indigo",
         "2019-04-03 00:00:00",
         "Banglore",
         "Delhi",
         "04:00:00",
         "06:50:00",
         "170",
         "0",
         "No info",
         "3943"
        ],
        [
         "23",
         "Indigo",
         "2019-05-01 00:00:00",
         "Banglore",
         "Delhi",
         "18:55:00",
         "21:50:00",
         "175",
         "0",
         "No info",
         "4823"
        ],
        [
         "24",
         "Jet Airways",
         "2019-05-06 00:00:00",
         "Kolkata",
         "Banglore",
         "18:55:00",
         "08:15:00",
         "800",
         "1",
         "In-flight meal not included",
         "7757"
        ],
        [
         "25",
         "Jet Airways",
         "2019-06-09 00:00:00",
         "Delhi",
         "Cochin",
         "21:25:00",
         "12:35:00",
         "910",
         "2",
         "No info",
         "13292"
        ],
        [
         "26",
         "Indigo",
         "2019-06-01 00:00:00",
         "Delhi",
         "Cochin",
         "21:50:00",
         "03:35:00",
         "345",
         "1",
         "No info",
         "8238"
        ],
        [
         "27",
         "Goair",
         "2019-05-15 00:00:00",
         "Delhi",
         "Cochin",
         "07:00:00",
         "12:55:00",
         "355",
         "1",
         "No info",
         "7682"
        ],
        [
         "28",
         "Vistara",
         "2019-06-18 00:00:00",
         "Banglore",
         "Delhi",
         "09:45:00",
         "12:35:00",
         "170",
         "0",
         "No info",
         "4668"
        ],
        [
         "29",
         "Vistara",
         "2019-06-15 00:00:00",
         "Chennai",
         "Kolkata",
         "07:05:00",
         "09:20:00",
         "135",
         "0",
         "No info",
         "3687"
        ],
        [
         "30",
         "Vistara",
         "2019-06-18 00:00:00",
         "Chennai",
         "Kolkata",
         "07:05:00",
         "09:20:00",
         "135",
         "0",
         "No info",
         "3687"
        ],
        [
         "31",
         "Air India",
         "2019-05-01 00:00:00",
         "Kolkata",
         "Banglore",
         "09:50:00",
         "23:15:00",
         "805",
         "2",
         "No info",
         "13227"
        ],
        [
         "32",
         "Indigo",
         "2019-04-06 00:00:00",
         "Banglore",
         "Delhi",
         "04:00:00",
         "06:50:00",
         "170",
         "0",
         "No info",
         "4423"
        ],
        [
         "33",
         "Jet Airways",
         "2019-06-15 00:00:00",
         "Delhi",
         "Cochin",
         "14:35:00",
         "12:35:00",
         "1320",
         "2",
         "In-flight meal not included",
         "10919"
        ],
        [
         "34",
         "Jet Airways",
         "2019-05-18 00:00:00",
         "Delhi",
         "Cochin",
         "07:05:00",
         "12:35:00",
         "330",
         "1",
         "In-flight meal not included",
         "12373"
        ],
        [
         "35",
         "Indigo",
         "2019-06-27 00:00:00",
         "Delhi",
         "Cochin",
         "10:35:00",
         "21:00:00",
         "625",
         "1",
         "No info",
         "5894"
        ],
        [
         "36",
         "Spicejet",
         "2019-05-21 00:00:00",
         "Kolkata",
         "Banglore",
         "15:05:00",
         "20:20:00",
         "315",
         "1",
         "No info",
         "4649"
        ],
        [
         "37",
         "Air India",
         "2019-05-18 00:00:00",
         "Kolkata",
         "Banglore",
         "14:15:00",
         "16:45:00",
         "150",
         "0",
         "No info",
         "6245"
        ],
        [
         "38",
         "Jet Airways",
         "2019-03-06 00:00:00",
         "Banglore",
         "Delhi",
         "07:00:00",
         "13:15:00",
         "375",
         "1",
         "No info",
         "19225"
        ],
        [
         "39",
         "Jet Airways",
         "2019-06-03 00:00:00",
         "Delhi",
         "Cochin",
         "07:05:00",
         "19:00:00",
         "715",
         "1",
         "No info",
         "14924"
        ],
        [
         "40",
         "Multiple Carriers",
         "2019-05-21 00:00:00",
         "Delhi",
         "Cochin",
         "07:05:00",
         "18:10:00",
         "665",
         "1",
         "No info",
         "9646"
        ],
        [
         "41",
         "Air India",
         "2019-03-15 00:00:00",
         "Banglore",
         "Delhi",
         "06:45:00",
         "15:15:00",
         "510",
         "1",
         "No info",
         "8714"
        ],
        [
         "42",
         "Jet Airways",
         "2019-05-18 00:00:00",
         "Delhi",
         "Cochin",
         "20:55:00",
         "19:00:00",
         "1325",
         "1",
         "In-flight meal not included",
         "12373"
        ],
        [
         "43",
         "Air Asia",
         "2019-05-06 00:00:00",
         "Banglore",
         "Delhi",
         "11:10:00",
         "13:55:00",
         "165",
         "0",
         "No info",
         "3383"
        ],
        [
         "44",
         "Multiple Carriers",
         "2019-03-21 00:00:00",
         "Delhi",
         "Cochin",
         "09:00:00",
         "21:00:00",
         "720",
         "1",
         "No info",
         "13062"
        ],
        [
         "45",
         "Spicejet",
         "2019-03-24 00:00:00",
         "Banglore",
         "Delhi",
         "05:45:00",
         "08:35:00",
         "170",
         "0",
         "No check-in baggage included",
         "3527"
        ],
        [
         "46",
         "Indigo",
         "2019-05-27 00:00:00",
         "Banglore",
         "Delhi",
         "04:00:00",
         "06:50:00",
         "170",
         "0",
         "No info",
         "3943"
        ],
        [
         "47",
         "Air India",
         "2019-05-03 00:00:00",
         "Chennai",
         "Kolkata",
         "11:40:00",
         "13:55:00",
         "135",
         "0",
         "No info",
         "4667"
        ],
        [
         "48",
         "Air India",
         "2019-05-15 00:00:00",
         "Kolkata",
         "Banglore",
         "19:00:00",
         "11:05:00",
         "965",
         "1",
         "No info",
         "6117"
        ],
        [
         "49",
         "Jet Airways",
         "2019-06-27 00:00:00",
         "Delhi",
         "Cochin",
         "23:05:00",
         "19:00:00",
         "1195",
         "2",
         "In-flight meal not included",
         "11150"
        ]
       ],
       "shape": {
        "columns": 10,
        "rows": 10461
       }
      },
      "text/html": [
       "<div>\n",
       "<style scoped>\n",
       "    .dataframe tbody tr th:only-of-type {\n",
       "        vertical-align: middle;\n",
       "    }\n",
       "\n",
       "    .dataframe tbody tr th {\n",
       "        vertical-align: top;\n",
       "    }\n",
       "\n",
       "    .dataframe thead th {\n",
       "        text-align: right;\n",
       "    }\n",
       "</style>\n",
       "<table border=\"1\" class=\"dataframe\">\n",
       "  <thead>\n",
       "    <tr style=\"text-align: right;\">\n",
       "      <th></th>\n",
       "      <th>airline</th>\n",
       "      <th>date_of_journey</th>\n",
       "      <th>source</th>\n",
       "      <th>destination</th>\n",
       "      <th>dep_time</th>\n",
       "      <th>arrival_time</th>\n",
       "      <th>duration</th>\n",
       "      <th>total_stops</th>\n",
       "      <th>additional_info</th>\n",
       "      <th>price</th>\n",
       "    </tr>\n",
       "  </thead>\n",
       "  <tbody>\n",
       "    <tr>\n",
       "      <th>0</th>\n",
       "      <td>Indigo</td>\n",
       "      <td>2019-03-24</td>\n",
       "      <td>Banglore</td>\n",
       "      <td>Delhi</td>\n",
       "      <td>22:20:00</td>\n",
       "      <td>01:10:00</td>\n",
       "      <td>170</td>\n",
       "      <td>0</td>\n",
       "      <td>No info</td>\n",
       "      <td>3897</td>\n",
       "    </tr>\n",
       "    <tr>\n",
       "      <th>1</th>\n",
       "      <td>Air India</td>\n",
       "      <td>2019-05-01</td>\n",
       "      <td>Kolkata</td>\n",
       "      <td>Banglore</td>\n",
       "      <td>05:50:00</td>\n",
       "      <td>13:15:00</td>\n",
       "      <td>445</td>\n",
       "      <td>2</td>\n",
       "      <td>No info</td>\n",
       "      <td>7662</td>\n",
       "    </tr>\n",
       "    <tr>\n",
       "      <th>2</th>\n",
       "      <td>Jet Airways</td>\n",
       "      <td>2019-06-09</td>\n",
       "      <td>Delhi</td>\n",
       "      <td>Cochin</td>\n",
       "      <td>09:25:00</td>\n",
       "      <td>04:25:00</td>\n",
       "      <td>1140</td>\n",
       "      <td>2</td>\n",
       "      <td>No info</td>\n",
       "      <td>13882</td>\n",
       "    </tr>\n",
       "    <tr>\n",
       "      <th>3</th>\n",
       "      <td>Indigo</td>\n",
       "      <td>2019-05-12</td>\n",
       "      <td>Kolkata</td>\n",
       "      <td>Banglore</td>\n",
       "      <td>18:05:00</td>\n",
       "      <td>23:30:00</td>\n",
       "      <td>325</td>\n",
       "      <td>1</td>\n",
       "      <td>No info</td>\n",
       "      <td>6218</td>\n",
       "    </tr>\n",
       "    <tr>\n",
       "      <th>4</th>\n",
       "      <td>Indigo</td>\n",
       "      <td>2019-03-01</td>\n",
       "      <td>Banglore</td>\n",
       "      <td>Delhi</td>\n",
       "      <td>16:50:00</td>\n",
       "      <td>21:35:00</td>\n",
       "      <td>285</td>\n",
       "      <td>1</td>\n",
       "      <td>No info</td>\n",
       "      <td>13302</td>\n",
       "    </tr>\n",
       "    <tr>\n",
       "      <th>...</th>\n",
       "      <td>...</td>\n",
       "      <td>...</td>\n",
       "      <td>...</td>\n",
       "      <td>...</td>\n",
       "      <td>...</td>\n",
       "      <td>...</td>\n",
       "      <td>...</td>\n",
       "      <td>...</td>\n",
       "      <td>...</td>\n",
       "      <td>...</td>\n",
       "    </tr>\n",
       "    <tr>\n",
       "      <th>10678</th>\n",
       "      <td>Air Asia</td>\n",
       "      <td>2019-04-09</td>\n",
       "      <td>Kolkata</td>\n",
       "      <td>Banglore</td>\n",
       "      <td>19:55:00</td>\n",
       "      <td>22:25:00</td>\n",
       "      <td>150</td>\n",
       "      <td>0</td>\n",
       "      <td>No info</td>\n",
       "      <td>4107</td>\n",
       "    </tr>\n",
       "    <tr>\n",
       "      <th>10679</th>\n",
       "      <td>Air India</td>\n",
       "      <td>2019-04-27</td>\n",
       "      <td>Kolkata</td>\n",
       "      <td>Banglore</td>\n",
       "      <td>20:45:00</td>\n",
       "      <td>23:20:00</td>\n",
       "      <td>155</td>\n",
       "      <td>0</td>\n",
       "      <td>No info</td>\n",
       "      <td>4145</td>\n",
       "    </tr>\n",
       "    <tr>\n",
       "      <th>10680</th>\n",
       "      <td>Jet Airways</td>\n",
       "      <td>2019-04-27</td>\n",
       "      <td>Banglore</td>\n",
       "      <td>Delhi</td>\n",
       "      <td>08:20:00</td>\n",
       "      <td>11:20:00</td>\n",
       "      <td>180</td>\n",
       "      <td>0</td>\n",
       "      <td>No info</td>\n",
       "      <td>7229</td>\n",
       "    </tr>\n",
       "    <tr>\n",
       "      <th>10681</th>\n",
       "      <td>Vistara</td>\n",
       "      <td>2019-03-01</td>\n",
       "      <td>Banglore</td>\n",
       "      <td>Delhi</td>\n",
       "      <td>11:30:00</td>\n",
       "      <td>14:10:00</td>\n",
       "      <td>160</td>\n",
       "      <td>0</td>\n",
       "      <td>No info</td>\n",
       "      <td>12648</td>\n",
       "    </tr>\n",
       "    <tr>\n",
       "      <th>10682</th>\n",
       "      <td>Air India</td>\n",
       "      <td>2019-05-09</td>\n",
       "      <td>Delhi</td>\n",
       "      <td>Cochin</td>\n",
       "      <td>10:55:00</td>\n",
       "      <td>19:15:00</td>\n",
       "      <td>500</td>\n",
       "      <td>2</td>\n",
       "      <td>No info</td>\n",
       "      <td>11753</td>\n",
       "    </tr>\n",
       "  </tbody>\n",
       "</table>\n",
       "<p>10461 rows × 10 columns</p>\n",
       "</div>"
      ],
      "text/plain": [
       "           airline date_of_journey    source destination  dep_time  \\\n",
       "0           Indigo      2019-03-24  Banglore       Delhi  22:20:00   \n",
       "1        Air India      2019-05-01   Kolkata    Banglore  05:50:00   \n",
       "2      Jet Airways      2019-06-09     Delhi      Cochin  09:25:00   \n",
       "3           Indigo      2019-05-12   Kolkata    Banglore  18:05:00   \n",
       "4           Indigo      2019-03-01  Banglore       Delhi  16:50:00   \n",
       "...            ...             ...       ...         ...       ...   \n",
       "10678     Air Asia      2019-04-09   Kolkata    Banglore  19:55:00   \n",
       "10679    Air India      2019-04-27   Kolkata    Banglore  20:45:00   \n",
       "10680  Jet Airways      2019-04-27  Banglore       Delhi  08:20:00   \n",
       "10681      Vistara      2019-03-01  Banglore       Delhi  11:30:00   \n",
       "10682    Air India      2019-05-09     Delhi      Cochin  10:55:00   \n",
       "\n",
       "      arrival_time  duration  total_stops additional_info  price  \n",
       "0         01:10:00       170            0         No info   3897  \n",
       "1         13:15:00       445            2         No info   7662  \n",
       "2         04:25:00      1140            2         No info  13882  \n",
       "3         23:30:00       325            1         No info   6218  \n",
       "4         21:35:00       285            1         No info  13302  \n",
       "...            ...       ...          ...             ...    ...  \n",
       "10678     22:25:00       150            0         No info   4107  \n",
       "10679     23:20:00       155            0         No info   4145  \n",
       "10680     11:20:00       180            0         No info   7229  \n",
       "10681     14:10:00       160            0         No info  12648  \n",
       "10682     19:15:00       500            2         No info  11753  \n",
       "\n",
       "[10461 rows x 10 columns]"
      ]
     },
     "execution_count": 53,
     "metadata": {},
     "output_type": "execute_result"
    }
   ],
   "source": [
    "flights_cleaned"
   ]
  },
  {
   "cell_type": "code",
   "execution_count": 54,
   "id": "c5b75f0c",
   "metadata": {},
   "outputs": [
    {
     "data": {
      "application/vnd.microsoft.datawrangler.viewer.v0+json": {
       "columns": [
        {
         "name": "index",
         "rawType": "object",
         "type": "string"
        },
        {
         "name": "0",
         "rawType": "object",
         "type": "unknown"
        }
       ],
       "ref": "ed81b84c-925a-4bc1-82b0-25c8d262a763",
       "rows": [
        [
         "airline",
         "object"
        ],
        [
         "date_of_journey",
         "datetime64[ns]"
        ],
        [
         "source",
         "object"
        ],
        [
         "destination",
         "object"
        ],
        [
         "dep_time",
         "object"
        ],
        [
         "arrival_time",
         "object"
        ],
        [
         "duration",
         "int64"
        ],
        [
         "total_stops",
         "int32"
        ],
        [
         "additional_info",
         "object"
        ],
        [
         "price",
         "int64"
        ]
       ],
       "shape": {
        "columns": 1,
        "rows": 10
       }
      },
      "text/plain": [
       "airline                    object\n",
       "date_of_journey    datetime64[ns]\n",
       "source                     object\n",
       "destination                object\n",
       "dep_time                   object\n",
       "arrival_time               object\n",
       "duration                    int64\n",
       "total_stops                 int32\n",
       "additional_info            object\n",
       "price                       int64\n",
       "dtype: object"
      ]
     },
     "execution_count": 54,
     "metadata": {},
     "output_type": "execute_result"
    }
   ],
   "source": [
    "flights_cleaned.dtypes"
   ]
  },
  {
   "cell_type": "markdown",
   "id": "394795b8",
   "metadata": {},
   "source": [
    "### 6. Split the data"
   ]
  },
  {
   "cell_type": "code",
   "execution_count": 55,
   "id": "7a8abf4a",
   "metadata": {},
   "outputs": [],
   "source": [
    "flights_final = flights_cleaned.sample(1000)"
   ]
  },
  {
   "cell_type": "code",
   "execution_count": 56,
   "id": "5614f239",
   "metadata": {},
   "outputs": [],
   "source": [
    "X = flights_final.drop(columns='price')\n",
    "y = flights_final.price.copy()"
   ]
  },
  {
   "cell_type": "code",
   "execution_count": 57,
   "id": "8e373e48",
   "metadata": {},
   "outputs": [
    {
     "name": "stdout",
     "output_type": "stream",
     "text": [
      "(640, 9) (640,)\n",
      "(160, 9) (160,)\n",
      "(200, 9) (200,)\n"
     ]
    }
   ],
   "source": [
    "X_, X_test, y_, y_test = train_test_split(X, y, test_size=0.2, random_state=42)\n",
    "X_train, X_val, y_train, y_val = train_test_split(X_, y_, test_size=0.2, random_state=42)\n",
    "\n",
    "print(X_train.shape, y_train.shape)\n",
    "print(X_val.shape, y_val.shape)\n",
    "print(X_test.shape, y_test.shape)"
   ]
  },
  {
   "cell_type": "markdown",
   "id": "0684dece",
   "metadata": {},
   "source": [
    "### 7. Export the Subsets"
   ]
  },
  {
   "cell_type": "code",
   "execution_count": null,
   "id": "e2dda033",
   "metadata": {},
   "outputs": [],
   "source": [
    "def export_data(X, y, name):\n",
    "\tfile_name = f\"{name}.csv\"\n",
    "\tfile_path = os.path.join(PROJECT_DIR, DATA_DIR, file_name)\n",
    "\n",
    "\tX.join(y).to_csv(file_path, index=False)\n",
    "\n",
    "\treturn pd.read_csv(file_path).head()"
   ]
  },
  {
   "cell_type": "code",
   "execution_count": null,
   "id": "d43327c3",
   "metadata": {},
   "outputs": [
    {
     "data": {
      "text/html": [
       "<div>\n",
       "<style scoped>\n",
       "    .dataframe tbody tr th:only-of-type {\n",
       "        vertical-align: middle;\n",
       "    }\n",
       "\n",
       "    .dataframe tbody tr th {\n",
       "        vertical-align: top;\n",
       "    }\n",
       "\n",
       "    .dataframe thead th {\n",
       "        text-align: right;\n",
       "    }\n",
       "</style>\n",
       "<table border=\"1\" class=\"dataframe\">\n",
       "  <thead>\n",
       "    <tr style=\"text-align: right;\">\n",
       "      <th></th>\n",
       "      <th>airline</th>\n",
       "      <th>date_of_journey</th>\n",
       "      <th>source</th>\n",
       "      <th>destination</th>\n",
       "      <th>dep_time</th>\n",
       "      <th>arrival_time</th>\n",
       "      <th>duration</th>\n",
       "      <th>total_stops</th>\n",
       "      <th>additional_info</th>\n",
       "      <th>price</th>\n",
       "    </tr>\n",
       "  </thead>\n",
       "  <tbody>\n",
       "    <tr>\n",
       "      <th>0</th>\n",
       "      <td>Air India</td>\n",
       "      <td>2019-04-09</td>\n",
       "      <td>Delhi</td>\n",
       "      <td>Cochin</td>\n",
       "      <td>05:55:00</td>\n",
       "      <td>19:15:00</td>\n",
       "      <td>2240</td>\n",
       "      <td>2</td>\n",
       "      <td>No info</td>\n",
       "      <td>7711</td>\n",
       "    </tr>\n",
       "    <tr>\n",
       "      <th>1</th>\n",
       "      <td>Air India</td>\n",
       "      <td>2019-06-03</td>\n",
       "      <td>Delhi</td>\n",
       "      <td>Cochin</td>\n",
       "      <td>07:10:00</td>\n",
       "      <td>07:40:00</td>\n",
       "      <td>1470</td>\n",
       "      <td>2</td>\n",
       "      <td>No info</td>\n",
       "      <td>12698</td>\n",
       "    </tr>\n",
       "    <tr>\n",
       "      <th>2</th>\n",
       "      <td>Air India</td>\n",
       "      <td>2019-05-15</td>\n",
       "      <td>Kolkata</td>\n",
       "      <td>Banglore</td>\n",
       "      <td>16:45:00</td>\n",
       "      <td>21:05:00</td>\n",
       "      <td>1700</td>\n",
       "      <td>1</td>\n",
       "      <td>No info</td>\n",
       "      <td>7452</td>\n",
       "    </tr>\n",
       "    <tr>\n",
       "      <th>3</th>\n",
       "      <td>Vistara</td>\n",
       "      <td>2019-06-15</td>\n",
       "      <td>Chennai</td>\n",
       "      <td>Kolkata</td>\n",
       "      <td>07:05:00</td>\n",
       "      <td>09:20:00</td>\n",
       "      <td>135</td>\n",
       "      <td>0</td>\n",
       "      <td>No info</td>\n",
       "      <td>3687</td>\n",
       "    </tr>\n",
       "    <tr>\n",
       "      <th>4</th>\n",
       "      <td>Jet Airways</td>\n",
       "      <td>2019-04-09</td>\n",
       "      <td>Delhi</td>\n",
       "      <td>Cochin</td>\n",
       "      <td>23:05:00</td>\n",
       "      <td>19:00:00</td>\n",
       "      <td>1195</td>\n",
       "      <td>2</td>\n",
       "      <td>No info</td>\n",
       "      <td>9483</td>\n",
       "    </tr>\n",
       "  </tbody>\n",
       "</table>\n",
       "</div>"
      ],
      "text/plain": [
       "       airline date_of_journey   source destination  dep_time arrival_time  \\\n",
       "0    Air India      2019-04-09    Delhi      Cochin  05:55:00     19:15:00   \n",
       "1    Air India      2019-06-03    Delhi      Cochin  07:10:00     07:40:00   \n",
       "2    Air India      2019-05-15  Kolkata    Banglore  16:45:00     21:05:00   \n",
       "3      Vistara      2019-06-15  Chennai     Kolkata  07:05:00     09:20:00   \n",
       "4  Jet Airways      2019-04-09    Delhi      Cochin  23:05:00     19:00:00   \n",
       "\n",
       "   duration  total_stops additional_info  price  \n",
       "0      2240            2         No info   7711  \n",
       "1      1470            2         No info  12698  \n",
       "2      1700            1         No info   7452  \n",
       "3       135            0         No info   3687  \n",
       "4      1195            2         No info   9483  "
      ]
     },
     "execution_count": 290,
     "metadata": {},
     "output_type": "execute_result"
    }
   ],
   "source": [
    "export_data(X_train, y_train, \"train\")\n"
   ]
  },
  {
   "cell_type": "code",
   "execution_count": null,
   "id": "d8a8fc39",
   "metadata": {},
   "outputs": [
    {
     "data": {
      "text/html": [
       "<div>\n",
       "<style scoped>\n",
       "    .dataframe tbody tr th:only-of-type {\n",
       "        vertical-align: middle;\n",
       "    }\n",
       "\n",
       "    .dataframe tbody tr th {\n",
       "        vertical-align: top;\n",
       "    }\n",
       "\n",
       "    .dataframe thead th {\n",
       "        text-align: right;\n",
       "    }\n",
       "</style>\n",
       "<table border=\"1\" class=\"dataframe\">\n",
       "  <thead>\n",
       "    <tr style=\"text-align: right;\">\n",
       "      <th></th>\n",
       "      <th>airline</th>\n",
       "      <th>date_of_journey</th>\n",
       "      <th>source</th>\n",
       "      <th>destination</th>\n",
       "      <th>dep_time</th>\n",
       "      <th>arrival_time</th>\n",
       "      <th>duration</th>\n",
       "      <th>total_stops</th>\n",
       "      <th>additional_info</th>\n",
       "      <th>price</th>\n",
       "    </tr>\n",
       "  </thead>\n",
       "  <tbody>\n",
       "    <tr>\n",
       "      <th>0</th>\n",
       "      <td>Air India</td>\n",
       "      <td>2019-03-01</td>\n",
       "      <td>Banglore</td>\n",
       "      <td>Delhi</td>\n",
       "      <td>22:00:00</td>\n",
       "      <td>13:20:00</td>\n",
       "      <td>920</td>\n",
       "      <td>1</td>\n",
       "      <td>No info</td>\n",
       "      <td>21130</td>\n",
       "    </tr>\n",
       "    <tr>\n",
       "      <th>1</th>\n",
       "      <td>Vistara</td>\n",
       "      <td>2019-06-24</td>\n",
       "      <td>Banglore</td>\n",
       "      <td>Delhi</td>\n",
       "      <td>21:00:00</td>\n",
       "      <td>23:50:00</td>\n",
       "      <td>170</td>\n",
       "      <td>0</td>\n",
       "      <td>No info</td>\n",
       "      <td>4668</td>\n",
       "    </tr>\n",
       "    <tr>\n",
       "      <th>2</th>\n",
       "      <td>Jet Airways</td>\n",
       "      <td>2019-03-18</td>\n",
       "      <td>Banglore</td>\n",
       "      <td>Delhi</td>\n",
       "      <td>22:50:00</td>\n",
       "      <td>08:15:00</td>\n",
       "      <td>565</td>\n",
       "      <td>1</td>\n",
       "      <td>No info</td>\n",
       "      <td>13555</td>\n",
       "    </tr>\n",
       "    <tr>\n",
       "      <th>3</th>\n",
       "      <td>Jet Airways</td>\n",
       "      <td>2019-06-03</td>\n",
       "      <td>Banglore</td>\n",
       "      <td>Delhi</td>\n",
       "      <td>11:10:00</td>\n",
       "      <td>14:05:00</td>\n",
       "      <td>175</td>\n",
       "      <td>0</td>\n",
       "      <td>In-flight meal not included</td>\n",
       "      <td>5769</td>\n",
       "    </tr>\n",
       "    <tr>\n",
       "      <th>4</th>\n",
       "      <td>Multiple Carriers</td>\n",
       "      <td>2019-06-09</td>\n",
       "      <td>Delhi</td>\n",
       "      <td>Cochin</td>\n",
       "      <td>09:15:00</td>\n",
       "      <td>19:00:00</td>\n",
       "      <td>585</td>\n",
       "      <td>1</td>\n",
       "      <td>No info</td>\n",
       "      <td>11622</td>\n",
       "    </tr>\n",
       "  </tbody>\n",
       "</table>\n",
       "</div>"
      ],
      "text/plain": [
       "             airline date_of_journey    source destination  dep_time  \\\n",
       "0          Air India      2019-03-01  Banglore       Delhi  22:00:00   \n",
       "1            Vistara      2019-06-24  Banglore       Delhi  21:00:00   \n",
       "2        Jet Airways      2019-03-18  Banglore       Delhi  22:50:00   \n",
       "3        Jet Airways      2019-06-03  Banglore       Delhi  11:10:00   \n",
       "4  Multiple Carriers      2019-06-09     Delhi      Cochin  09:15:00   \n",
       "\n",
       "  arrival_time  duration  total_stops              additional_info  price  \n",
       "0     13:20:00       920            1                      No info  21130  \n",
       "1     23:50:00       170            0                      No info   4668  \n",
       "2     08:15:00       565            1                      No info  13555  \n",
       "3     14:05:00       175            0  In-flight meal not included   5769  \n",
       "4     19:00:00       585            1                      No info  11622  "
      ]
     },
     "execution_count": 291,
     "metadata": {},
     "output_type": "execute_result"
    }
   ],
   "source": [
    "export_data(X_val, y_val, \"val\")"
   ]
  },
  {
   "cell_type": "code",
   "execution_count": null,
   "id": "aca5f463",
   "metadata": {},
   "outputs": [
    {
     "data": {
      "text/html": [
       "<div>\n",
       "<style scoped>\n",
       "    .dataframe tbody tr th:only-of-type {\n",
       "        vertical-align: middle;\n",
       "    }\n",
       "\n",
       "    .dataframe tbody tr th {\n",
       "        vertical-align: top;\n",
       "    }\n",
       "\n",
       "    .dataframe thead th {\n",
       "        text-align: right;\n",
       "    }\n",
       "</style>\n",
       "<table border=\"1\" class=\"dataframe\">\n",
       "  <thead>\n",
       "    <tr style=\"text-align: right;\">\n",
       "      <th></th>\n",
       "      <th>airline</th>\n",
       "      <th>date_of_journey</th>\n",
       "      <th>source</th>\n",
       "      <th>destination</th>\n",
       "      <th>dep_time</th>\n",
       "      <th>arrival_time</th>\n",
       "      <th>duration</th>\n",
       "      <th>total_stops</th>\n",
       "      <th>additional_info</th>\n",
       "      <th>price</th>\n",
       "    </tr>\n",
       "  </thead>\n",
       "  <tbody>\n",
       "    <tr>\n",
       "      <th>0</th>\n",
       "      <td>Vistara</td>\n",
       "      <td>2019-05-03</td>\n",
       "      <td>Banglore</td>\n",
       "      <td>Delhi</td>\n",
       "      <td>07:00:00</td>\n",
       "      <td>09:40:00</td>\n",
       "      <td>160</td>\n",
       "      <td>0</td>\n",
       "      <td>No info</td>\n",
       "      <td>4668</td>\n",
       "    </tr>\n",
       "    <tr>\n",
       "      <th>1</th>\n",
       "      <td>Indigo</td>\n",
       "      <td>2019-05-18</td>\n",
       "      <td>Delhi</td>\n",
       "      <td>Cochin</td>\n",
       "      <td>08:30:00</td>\n",
       "      <td>21:00:00</td>\n",
       "      <td>750</td>\n",
       "      <td>1</td>\n",
       "      <td>No info</td>\n",
       "      <td>7081</td>\n",
       "    </tr>\n",
       "    <tr>\n",
       "      <th>2</th>\n",
       "      <td>Air India</td>\n",
       "      <td>2019-05-09</td>\n",
       "      <td>Delhi</td>\n",
       "      <td>Cochin</td>\n",
       "      <td>12:30:00</td>\n",
       "      <td>09:25:00</td>\n",
       "      <td>1255</td>\n",
       "      <td>1</td>\n",
       "      <td>No info</td>\n",
       "      <td>7480</td>\n",
       "    </tr>\n",
       "    <tr>\n",
       "      <th>3</th>\n",
       "      <td>Jet Airways</td>\n",
       "      <td>2019-03-06</td>\n",
       "      <td>Banglore</td>\n",
       "      <td>Delhi</td>\n",
       "      <td>08:00:00</td>\n",
       "      <td>20:20:00</td>\n",
       "      <td>740</td>\n",
       "      <td>1</td>\n",
       "      <td>No info</td>\n",
       "      <td>16736</td>\n",
       "    </tr>\n",
       "    <tr>\n",
       "      <th>4</th>\n",
       "      <td>Jet Airways</td>\n",
       "      <td>2019-03-09</td>\n",
       "      <td>Delhi</td>\n",
       "      <td>Cochin</td>\n",
       "      <td>02:15:00</td>\n",
       "      <td>04:25:00</td>\n",
       "      <td>1570</td>\n",
       "      <td>1</td>\n",
       "      <td>No info</td>\n",
       "      <td>15029</td>\n",
       "    </tr>\n",
       "  </tbody>\n",
       "</table>\n",
       "</div>"
      ],
      "text/plain": [
       "       airline date_of_journey    source destination  dep_time arrival_time  \\\n",
       "0      Vistara      2019-05-03  Banglore       Delhi  07:00:00     09:40:00   \n",
       "1       Indigo      2019-05-18     Delhi      Cochin  08:30:00     21:00:00   \n",
       "2    Air India      2019-05-09     Delhi      Cochin  12:30:00     09:25:00   \n",
       "3  Jet Airways      2019-03-06  Banglore       Delhi  08:00:00     20:20:00   \n",
       "4  Jet Airways      2019-03-09     Delhi      Cochin  02:15:00     04:25:00   \n",
       "\n",
       "   duration  total_stops additional_info  price  \n",
       "0       160            0         No info   4668  \n",
       "1       750            1         No info   7081  \n",
       "2      1255            1         No info   7480  \n",
       "3       740            1         No info  16736  \n",
       "4      1570            1         No info  15029  "
      ]
     },
     "execution_count": 292,
     "metadata": {},
     "output_type": "execute_result"
    }
   ],
   "source": [
    "export_data(X_test, y_test, \"test\")\n"
   ]
  }
 ],
 "metadata": {
  "kernelspec": {
   "display_name": "base",
   "language": "python",
   "name": "python3"
  },
  "language_info": {
   "codemirror_mode": {
    "name": "ipython",
    "version": 3
   },
   "file_extension": ".py",
   "mimetype": "text/x-python",
   "name": "python",
   "nbconvert_exporter": "python",
   "pygments_lexer": "ipython3",
   "version": "3.9.18"
  }
 },
 "nbformat": 4,
 "nbformat_minor": 5
}
